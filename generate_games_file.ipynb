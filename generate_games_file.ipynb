{
 "cells": [
  {
   "cell_type": "code",
   "execution_count": 1,
   "metadata": {},
   "outputs": [],
   "source": [
    "import numpy as np\n",
    "import requests\n",
    "from bs4 import BeautifulSoup\n",
    "import pandas as pd\n",
    "import time\n",
    "import tqdm\n",
    "import json"
   ]
  },
  {
   "cell_type": "code",
   "execution_count": 3,
   "metadata": {},
   "outputs": [],
   "source": [
    "apiKey = \"RGAPI-e34aa39f-46f5-46e2-a0a9-bd71831a44af\""
   ]
  },
  {
   "cell_type": "code",
   "execution_count": 3,
   "metadata": {},
   "outputs": [
    {
     "name": "stdout",
     "output_type": "stream",
     "text": [
      "3607\n",
      "EUN1_2339766487\n"
     ]
    }
   ],
   "source": [
    "with open(\"games_id.json\",\"r\") as f:\n",
    "    games_id = json.load(f)\n",
    "print(len(games_id))\n",
    "print(games_id[0])"
   ]
  },
  {
   "cell_type": "code",
   "execution_count": 4,
   "metadata": {},
   "outputs": [],
   "source": [
    "def get_game_details_from_game_id(game_id, api):\n",
    "    url = \"https://europe.api.riotgames.com/tft/match/v1/matches/\"+game_id+\"?api_key=\"+api\n",
    "    response = requests.get(url).json()['info']['participants']\n",
    "    # print(np.array(response).shape)\n",
    "    ans = []\n",
    "    for i in response:\n",
    "        player = []\n",
    "        for champs in i['units']:\n",
    "            # print(champs)\n",
    "            # print(champs['name'], champs['items'], champs['tier'])\n",
    "            player.append([champs['name'], champs['items'], champs['tier']])\n",
    "        # print(player)\n",
    "        ans.append(player)\n",
    "    return ans"
   ]
  },
  {
   "cell_type": "code",
   "execution_count": 5,
   "metadata": {},
   "outputs": [
    {
     "name": "stderr",
     "output_type": "stream",
     "text": [
      "100%|██████████████████████████████████████████████████████████████████████████████| 180/180 [1:15:00<00:00, 25.00s/it]\n"
     ]
    },
    {
     "name": "stdout",
     "output_type": "stream",
     "text": [
      "\n",
      "3599\n"
     ]
    }
   ],
   "source": [
    "\n",
    "games_id = list(games_id)\n",
    "all_games = []\n",
    "starttime = time.time()\n",
    "for i in tqdm.tqdm(range(len(games_id)//20)):    \n",
    "    starttime = time.time()\n",
    "    for j in range(20):\n",
    "        try:\n",
    "            all_games.append(get_game_details_from_game_id(games_id[i*20+j], apiKey))\n",
    "        except:\n",
    "            pass\n",
    "    time.sleep(25.0 - (time.time()-starttime))\n",
    "\n",
    "print()\n",
    "print(len(all_games))\n",
    "\n",
    "with open('games.json', 'w') as f:\n",
    "    json.dump(all_games, f)"
   ]
  },
  {
   "cell_type": "markdown",
   "metadata": {},
   "source": [
    "# Scrapping full games from various divisions"
   ]
  },
  {
   "cell_type": "code",
   "execution_count": 25,
   "metadata": {},
   "outputs": [],
   "source": [
    "def get_league(api, div, nr, page=1):\n",
    "    '''\n",
    "        returns: np.array of league summoners names\n",
    "    '''\n",
    "    url = \"https://eun1.api.riotgames.com/tft/league/v1/entries/\"+div+\"/\"+nr+\"?page=\"+str(page)+\"&api_key=\"+api\n",
    "    \n",
    "    response = requests.get(url)\n",
    "    r = pd.DataFrame(response.json())\n",
    "    return np.array(r).T[5]\n",
    "\n",
    "plat1 = get_league(apiKey, \"PLATINUM\", \"I\", 1)"
   ]
  },
  {
   "cell_type": "code",
   "execution_count": 27,
   "metadata": {},
   "outputs": [],
   "source": [
    "silver1 = get_league(apiKey, \"SILVER\", \"I\", 1)\n",
    "iron1 = get_league(apiKey, \"IRON\", \"I\", 1)"
   ]
  },
  {
   "cell_type": "code",
   "execution_count": 28,
   "metadata": {},
   "outputs": [],
   "source": [
    "def summoners_name_to_puuid(name, api):\n",
    "    url = \"https://eun1.api.riotgames.com/tft/summoner/v1/summoners/by-name/\"+name+\"?api_key=\"+api\n",
    "    return  requests.get(url).json()['puuid']"
   ]
  },
  {
   "cell_type": "code",
   "execution_count": 30,
   "metadata": {},
   "outputs": [],
   "source": [
    "def get_games_id_from_summoners_puuid(puuid, api, n=10):\n",
    "    url = \"https://europe.api.riotgames.com/tft/match/v1/matches/by-puuid/\"+puuid+\"/ids?count=\"+str(n)+\"&api_key=\"+api\n",
    "    return requests.get(url).json()"
   ]
  },
  {
   "cell_type": "code",
   "execution_count": 40,
   "metadata": {},
   "outputs": [],
   "source": [
    "def get_game_details_from_game_id(game_id, api):\n",
    "    url = \"https://europe.api.riotgames.com/tft/match/v1/matches/\"+game_id+\"?api_key=\"+api\n",
    "    response = requests.get(url).json()['info']['participants']\n",
    "#     print(np.array(response))\n",
    "    ans = []\n",
    "    for i in response:\n",
    "        player = []\n",
    "        for champs in i['units']:\n",
    "            # print(champs)\n",
    "            # print(champs['name'], champs['items'], champs['tier'])\n",
    "            player.append([champs['character_id'], champs['items'], champs['tier']])\n",
    "        # print(player)\n",
    "        synergies = []\n",
    "        for trait in i['traits']:\n",
    "            synergies.append([trait['name'], trait['num_units'], trait['tier_current'], trait['tier_total']])\n",
    "        ans.append(player)\n",
    "        ans.append(synergies)\n",
    "        ans.append(i['total_damage_to_players'])\n",
    "    return ans\n",
    "\n",
    "# get_game_details_from_game_id('EUN1_2378092721', apiKey)"
   ]
  },
  {
   "cell_type": "code",
   "execution_count": 45,
   "metadata": {},
   "outputs": [],
   "source": [
    "plat1_players = get_league(apiKey, \"PLATINUM\", \"I\", 1)\n",
    "np.array(plat1_players).shape\n",
    "plat1_puuids = []\n",
    "starttime = time.time()\n",
    "for i in np.arange(0,50,10):\n",
    "    starttime = time.time()\n",
    "    for p in plat1_players[i:i+10]:\n",
    "        plat1_puuids.append(summoners_name_to_puuid(p, apiKey))\n",
    "    time.sleep(25.0 - (time.time()-starttime))"
   ]
  },
  {
   "cell_type": "code",
   "execution_count": 46,
   "metadata": {},
   "outputs": [
    {
     "name": "stderr",
     "output_type": "stream",
     "text": [
      "100%|████████████████████████████████████████████████████████████████████████████████████| 5/5 [02:05<00:00, 25.00s/it]\n"
     ]
    }
   ],
   "source": [
    "plat1_games_id = set()\n",
    "for i in tqdm.tqdm(np.arange(0,50,10)):\n",
    "    starttime = time.time()\n",
    "    for p in plat1_puuids[i:i+10]:\n",
    "        list_of_games = get_games_id_from_summoners_puuid(p, apiKey, 10)\n",
    "        for l in list_of_games:\n",
    "            plat1_games_id.add(l)\n",
    "    time.sleep(25.0 - (time.time()-starttime))"
   ]
  },
  {
   "cell_type": "code",
   "execution_count": 48,
   "metadata": {},
   "outputs": [],
   "source": [
    "# print(plat1_games_id)"
   ]
  },
  {
   "cell_type": "code",
   "execution_count": 49,
   "metadata": {},
   "outputs": [
    {
     "name": "stderr",
     "output_type": "stream",
     "text": [
      "100%|██████████████████████████████████████████████████████████████████████████████████| 25/25 [10:25<00:00, 25.00s/it]"
     ]
    },
    {
     "name": "stdout",
     "output_type": "stream",
     "text": [
      "\n",
      "500\n"
     ]
    },
    {
     "name": "stderr",
     "output_type": "stream",
     "text": [
      "\n"
     ]
    }
   ],
   "source": [
    "plat1_games_id = list(plat1_games_id)\n",
    "plat1_all_games = []\n",
    "starttime = time.time()\n",
    "for i in tqdm.tqdm(range(len(plat1_games_id)//20)):    \n",
    "    starttime = time.time()\n",
    "    for j in range(20):\n",
    "        try:\n",
    "            plat1_all_games.append(get_game_details_from_game_id(plat1_games_id[i*20+j], apiKey))\n",
    "        except:\n",
    "            pass\n",
    "    time.sleep(25.0 - (time.time()-starttime))\n",
    "\n",
    "print()\n",
    "print(len(plat1_all_games))"
   ]
  },
  {
   "cell_type": "code",
   "execution_count": 50,
   "metadata": {},
   "outputs": [],
   "source": [
    "with open('data/plat1.json', 'w') as f:\n",
    "    json.dump(list(plat1_all_games), f)"
   ]
  },
  {
   "cell_type": "code",
   "execution_count": 51,
   "metadata": {},
   "outputs": [
    {
     "name": "stderr",
     "output_type": "stream",
     "text": [
      "100%|████████████████████████████████████████████████████████████████████████████████████| 5/5 [02:05<00:00, 25.00s/it]\n",
      "100%|██████████████████████████████████████████████████████████████████████████████████| 25/25 [10:25<00:00, 25.00s/it]\n"
     ]
    },
    {
     "name": "stdout",
     "output_type": "stream",
     "text": [
      "\n",
      "500\n"
     ]
    }
   ],
   "source": [
    "gold1_players = get_league(apiKey, \"GOLD\", \"I\", 1)\n",
    "np.array(gold1_players).shape\n",
    "gold1_puuids = []\n",
    "starttime = time.time()\n",
    "for i in np.arange(0,50,10):\n",
    "    starttime = time.time()\n",
    "    for p in gold1_players[i:i+10]:\n",
    "        gold1_puuids.append(summoners_name_to_puuid(p, apiKey))\n",
    "    time.sleep(25.0 - (time.time()-starttime))\n",
    "    \n",
    "gold1_games_id = set()\n",
    "for i in tqdm.tqdm(np.arange(0,50,10)):\n",
    "    starttime = time.time()\n",
    "    for p in gold1_puuids[i:i+10]:\n",
    "        list_of_games = get_games_id_from_summoners_puuid(p, apiKey, 10)\n",
    "        for l in list_of_games:\n",
    "            gold1_games_id.add(l)\n",
    "    time.sleep(25.0 - (time.time()-starttime))\n",
    "    \n",
    "\n",
    "gold1_games_id = list(gold1_games_id)\n",
    "gold1_all_games = []\n",
    "starttime = time.time()\n",
    "for i in tqdm.tqdm(range(len(gold1_games_id)//20)):    \n",
    "    starttime = time.time()\n",
    "    for j in range(20):\n",
    "        try:\n",
    "            gold1_all_games.append(get_game_details_from_game_id(gold1_games_id[i*20+j], apiKey))\n",
    "        except:\n",
    "            pass\n",
    "    time.sleep(25.0 - (time.time()-starttime))\n",
    "\n",
    "print()\n",
    "print(len(gold1_all_games))\n",
    "\n",
    "with open('data/gold1.json', 'w') as f:\n",
    "    json.dump(list(gold1_all_games), f)"
   ]
  },
  {
   "cell_type": "code",
   "execution_count": 53,
   "metadata": {},
   "outputs": [
    {
     "name": "stderr",
     "output_type": "stream",
     "text": [
      "100%|████████████████████████████████████████████████████████████████████████████████████| 5/5 [02:05<00:00, 25.00s/it]\n",
      "100%|██████████████████████████████████████████████████████████████████████████████████| 25/25 [10:25<00:00, 25.00s/it]\n"
     ]
    },
    {
     "name": "stdout",
     "output_type": "stream",
     "text": [
      "\n",
      "500\n"
     ]
    }
   ],
   "source": [
    "gold1_players = get_league(apiKey, \"SILVER\", \"I\", 1)\n",
    "np.array(gold1_players).shape\n",
    "gold1_puuids = []\n",
    "starttime = time.time()\n",
    "for i in np.arange(0,50,10):\n",
    "    starttime = time.time()\n",
    "    for p in gold1_players[i:i+10]:\n",
    "        gold1_puuids.append(summoners_name_to_puuid(p, apiKey))\n",
    "    time.sleep(25.0 - (time.time()-starttime))\n",
    "    \n",
    "gold1_games_id = set()\n",
    "for i in tqdm.tqdm(np.arange(0,50,10)):\n",
    "    starttime = time.time()\n",
    "    for p in gold1_puuids[i:i+10]:\n",
    "        list_of_games = get_games_id_from_summoners_puuid(p, apiKey, 10)\n",
    "        for l in list_of_games:\n",
    "            gold1_games_id.add(l)\n",
    "    time.sleep(25.0 - (time.time()-starttime))\n",
    "    \n",
    "\n",
    "gold1_games_id = list(gold1_games_id)\n",
    "gold1_all_games = []\n",
    "starttime = time.time()\n",
    "for i in tqdm.tqdm(range(len(gold1_games_id)//20)):    \n",
    "    starttime = time.time()\n",
    "    for j in range(20):\n",
    "        try:\n",
    "            gold1_all_games.append(get_game_details_from_game_id(gold1_games_id[i*20+j], apiKey))\n",
    "        except:\n",
    "            pass\n",
    "    time.sleep(25.0 - (time.time()-starttime))\n",
    "\n",
    "print()\n",
    "print(len(gold1_all_games))\n",
    "\n",
    "with open('data/silver1.json', 'w') as f:\n",
    "    json.dump(list(gold1_all_games), f)"
   ]
  },
  {
   "cell_type": "code",
   "execution_count": 52,
   "metadata": {},
   "outputs": [
    {
     "name": "stderr",
     "output_type": "stream",
     "text": [
      "100%|████████████████████████████████████████████████████████████████████████████████████| 5/5 [02:05<00:00, 25.00s/it]\n",
      "100%|██████████████████████████████████████████████████████████████████████████████████| 24/24 [10:00<00:00, 25.00s/it]\n"
     ]
    },
    {
     "name": "stdout",
     "output_type": "stream",
     "text": [
      "\n",
      "480\n"
     ]
    }
   ],
   "source": [
    "gold1_players = get_league(apiKey, \"BRONZE\", \"I\", 1)\n",
    "np.array(gold1_players).shape\n",
    "gold1_puuids = []\n",
    "starttime = time.time()\n",
    "for i in np.arange(0,50,10):\n",
    "    starttime = time.time()\n",
    "    for p in gold1_players[i:i+10]:\n",
    "        gold1_puuids.append(summoners_name_to_puuid(p, apiKey))\n",
    "    time.sleep(25.0 - (time.time()-starttime))\n",
    "    \n",
    "gold1_games_id = set()\n",
    "for i in tqdm.tqdm(np.arange(0,50,10)):\n",
    "    starttime = time.time()\n",
    "    for p in gold1_puuids[i:i+10]:\n",
    "        list_of_games = get_games_id_from_summoners_puuid(p, apiKey, 10)\n",
    "        for l in list_of_games:\n",
    "            gold1_games_id.add(l)\n",
    "    time.sleep(25.0 - (time.time()-starttime))\n",
    "    \n",
    "\n",
    "gold1_games_id = list(gold1_games_id)\n",
    "gold1_all_games = []\n",
    "starttime = time.time()\n",
    "for i in tqdm.tqdm(range(len(gold1_games_id)//20)):    \n",
    "    starttime = time.time()\n",
    "    for j in range(20):\n",
    "        try:\n",
    "            gold1_all_games.append(get_game_details_from_game_id(gold1_games_id[i*20+j], apiKey))\n",
    "        except:\n",
    "            pass\n",
    "    time.sleep(25.0 - (time.time()-starttime))\n",
    "\n",
    "print()\n",
    "print(len(gold1_all_games))\n",
    "\n",
    "with open('data/bronze1.json', 'w') as f:\n",
    "    json.dump(list(gold1_all_games), f)"
   ]
  },
  {
   "cell_type": "code",
   "execution_count": 54,
   "metadata": {},
   "outputs": [
    {
     "name": "stderr",
     "output_type": "stream",
     "text": [
      "100%|████████████████████████████████████████████████████████████████████████████████████| 5/5 [02:05<00:00, 25.00s/it]\n",
      "100%|██████████████████████████████████████████████████████████████████████████████████| 23/23 [09:35<00:00, 25.00s/it]\n"
     ]
    },
    {
     "name": "stdout",
     "output_type": "stream",
     "text": [
      "\n",
      "445\n"
     ]
    }
   ],
   "source": [
    "gold1_players = get_league(apiKey, \"IRON\", \"I\", 1)\n",
    "np.array(gold1_players).shape\n",
    "gold1_puuids = []\n",
    "starttime = time.time()\n",
    "for i in np.arange(0,50,10):\n",
    "    starttime = time.time()\n",
    "    for p in gold1_players[i:i+10]:\n",
    "        gold1_puuids.append(summoners_name_to_puuid(p, apiKey))\n",
    "    time.sleep(25.0 - (time.time()-starttime))\n",
    "    \n",
    "gold1_games_id = set()\n",
    "for i in tqdm.tqdm(np.arange(0,50,10)):\n",
    "    starttime = time.time()\n",
    "    for p in gold1_puuids[i:i+10]:\n",
    "        list_of_games = get_games_id_from_summoners_puuid(p, apiKey, 10)\n",
    "        for l in list_of_games:\n",
    "            gold1_games_id.add(l)\n",
    "    time.sleep(25.0 - (time.time()-starttime))\n",
    "    \n",
    "\n",
    "gold1_games_id = list(gold1_games_id)\n",
    "gold1_all_games = []\n",
    "starttime = time.time()\n",
    "for i in tqdm.tqdm(range(len(gold1_games_id)//20)):    \n",
    "    starttime = time.time()\n",
    "    for j in range(20):\n",
    "        try:\n",
    "            gold1_all_games.append(get_game_details_from_game_id(gold1_games_id[i*20+j], apiKey))\n",
    "        except:\n",
    "            pass\n",
    "    time.sleep(25.0 - (time.time()-starttime))\n",
    "\n",
    "print()\n",
    "print(len(gold1_all_games))\n",
    "\n",
    "with open('data/iron1.json', 'w') as f:\n",
    "    json.dump(list(gold1_all_games), f)"
   ]
  },
  {
   "cell_type": "code",
   "execution_count": null,
   "metadata": {},
   "outputs": [],
   "source": []
  }
 ],
 "metadata": {
  "kernelspec": {
   "display_name": "Python 3",
   "language": "python",
   "name": "python3"
  },
  "language_info": {
   "codemirror_mode": {
    "name": "ipython",
    "version": 3
   },
   "file_extension": ".py",
   "mimetype": "text/x-python",
   "name": "python",
   "nbconvert_exporter": "python",
   "pygments_lexer": "ipython3",
   "version": "3.8.1"
  }
 },
 "nbformat": 4,
 "nbformat_minor": 4
}
