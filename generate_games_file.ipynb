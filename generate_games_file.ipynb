{
 "cells": [
  {
   "cell_type": "code",
   "execution_count": 1,
   "metadata": {},
   "outputs": [],
   "source": [
    "import numpy as np\n",
    "import requests\n",
    "from bs4 import BeautifulSoup\n",
    "import pandas as pd\n",
    "import time\n",
    "import tqdm\n",
    "import json"
   ]
  },
  {
   "cell_type": "code",
   "execution_count": 2,
   "metadata": {},
   "outputs": [],
   "source": [
    "apiKey = \"RGAPI-8fb76f45-f6fe-494d-823c-7c22227b4dae\""
   ]
  },
  {
   "cell_type": "code",
   "execution_count": 3,
   "metadata": {},
   "outputs": [
    {
     "name": "stdout",
     "output_type": "stream",
     "text": [
      "3607\n",
      "EUN1_2339766487\n"
     ]
    }
   ],
   "source": [
    "with open(\"games_id.json\",\"r\") as f:\n",
    "    games_id = json.load(f)\n",
    "print(len(games_id))\n",
    "print(games_id[0])"
   ]
  },
  {
   "cell_type": "code",
   "execution_count": 4,
   "metadata": {},
   "outputs": [],
   "source": [
    "def get_game_details_from_game_id(game_id, api):\n",
    "    url = \"https://europe.api.riotgames.com/tft/match/v1/matches/\"+game_id+\"?api_key=\"+api\n",
    "    response = requests.get(url).json()['info']['participants']\n",
    "    # print(np.array(response).shape)\n",
    "    ans = []\n",
    "    for i in response:\n",
    "        player = []\n",
    "        for champs in i['units']:\n",
    "            # print(champs)\n",
    "            # print(champs['name'], champs['items'], champs['tier'])\n",
    "            player.append([champs['name'], champs['items'], champs['tier']])\n",
    "        # print(player)\n",
    "        ans.append(player)\n",
    "    return ans"
   ]
  },
  {
   "cell_type": "code",
   "execution_count": 5,
   "metadata": {},
   "outputs": [
    {
     "name": "stderr",
     "output_type": "stream",
     "text": [
      "100%|██████████████████████████████████████████████████████████████████████████████| 180/180 [1:15:00<00:00, 25.00s/it]\n"
     ]
    },
    {
     "name": "stdout",
     "output_type": "stream",
     "text": [
      "\n",
      "3599\n"
     ]
    }
   ],
   "source": [
    "\n",
    "games_id = list(games_id)\n",
    "all_games = []\n",
    "starttime = time.time()\n",
    "for i in tqdm.tqdm(range(len(games_id)//20)):    \n",
    "    starttime = time.time()\n",
    "    for j in range(20):\n",
    "        try:\n",
    "            all_games.append(get_game_details_from_game_id(games_id[i*20+j], apiKey))\n",
    "        except:\n",
    "            pass\n",
    "    time.sleep(25.0 - (time.time()-starttime))\n",
    "\n",
    "print()\n",
    "print(len(all_games))\n",
    "\n",
    "with open('games.json', 'w') as f:\n",
    "    json.dump(all_games, f)"
   ]
  }
 ],
 "metadata": {
  "kernelspec": {
   "display_name": "Python 3",
   "language": "python",
   "name": "python3"
  },
  "language_info": {
   "codemirror_mode": {
    "name": "ipython",
    "version": 3
   },
   "file_extension": ".py",
   "mimetype": "text/x-python",
   "name": "python",
   "nbconvert_exporter": "python",
   "pygments_lexer": "ipython3",
   "version": "3.8.1"
  }
 },
 "nbformat": 4,
 "nbformat_minor": 4
}
