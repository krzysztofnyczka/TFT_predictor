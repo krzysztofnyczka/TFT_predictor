{
 "cells": [
  {
   "cell_type": "code",
   "execution_count": null,
   "metadata": {
    "colab": {},
    "colab_type": "code",
    "id": "SwikFPZHg4yk"
   },
   "outputs": [],
   "source": [
    "import numpy as np\n",
    "import requests\n",
    "from bs4 import BeautifulSoup\n",
    "import pandas as pd"
   ]
  },
  {
   "cell_type": "code",
   "execution_count": 28,
   "metadata": {
    "colab": {
     "base_uri": "https://localhost:8080/",
     "height": 101
    },
    "colab_type": "code",
    "id": "TP_yiBDDhEsZ",
    "outputId": "28d93291-135e-4947-8996-5c578ea26cb9"
   },
   "outputs": [
    {
     "name": "stdout",
     "output_type": "stream",
     "text": [
      "tier\n",
      "leagueId\n",
      "queue\n",
      "name\n",
      "entries\n"
     ]
    }
   ],
   "source": [
    "apiKey = \"RGAPI-8fb76f45-f6fe-494d-823c-7c22227b4dae\"\n",
    "\n",
    "url = \"https://eun1.api.riotgames.com/tft/league/v1/challenger\"+\"?api_key=\"+apiKey\n",
    "url2 = \"https://eun1.api.riotgames.com/lol/platform/v3/champion-rotations?api_key=\"+apiKey\n",
    "response = requests.get(url)\n",
    "# r = pd.DataFrame(response.text)\n",
    "for e in response.json():\n",
    "    print(e)"
   ]
  },
  {
   "cell_type": "code",
   "execution_count": null,
   "metadata": {
    "colab": {},
    "colab_type": "code",
    "id": "-d_6s93ZPGEm"
   },
   "outputs": [],
   "source": [
    "# response.json()"
   ]
  },
  {
   "cell_type": "code",
   "execution_count": 29,
   "metadata": {
    "colab": {
     "base_uri": "https://localhost:8080/",
     "height": 54
    },
    "colab_type": "code",
    "id": "XVYCgxsTsYub",
    "outputId": "49aec13e-f9de-4ef4-938d-cf84f8bde577"
   },
   "outputs": [
    {
     "name": "stdout",
     "output_type": "stream",
     "text": [
      "[{'summonerId': 'Bl1vcNCQRI4TpNr-oMqOV3--Pq3-e5kTfYGlHWxnHYD-z58', 'summonerName': 'Strikerko', 'leaguePoints': 491, 'rank': 'I', 'wins': 103, 'losses': 419, 'veteran': True, 'inactive': False, 'freshBlood': False, 'hotStreak': False}, {'summonerId': 'gkMqiCxDJhCrqujOLAzMXZR5woF01LY-p6Guc6LSX83Xawk', 'summonerName': '0rchide', 'leaguePoints': 373, 'rank': 'I', 'wins': 56, 'losses': 343, 'veteran': False, 'inactive': False, 'freshBlood': True, 'hotStreak': False}, {'summonerId': 'N7Ip1Ud3UdnOTlIZjR6kL0Augl8ChQtazXFbFJ1e8Nf-ohA', 'summonerName': 'Vipperipper', 'leaguePoints': 573, 'rank': 'I', 'wins': 53, 'losses': 215, 'veteran': False, 'inactive': False, 'freshBlood': False, 'hotStreak': False}, {'summonerId': 'GJ7hDzWss8Zcnd9s-pvcMWIa72tEFFE6EHAXGMIy8V5nSzE', 'summonerName': 'Άνεργος', 'leaguePoints': 378, 'rank': 'I', 'wins': 41, 'losses': 223, 'veteran': False, 'inactive': False, 'freshBlood': True, 'hotStreak': False}, {'summonerId': 'vSp2JvGzor1BndY3TCQ2gQOk0kSCM-E3ljC4oCrFNRYGuRA', 'summonerName': 'VERONICA HUSBAND', 'leaguePoints': 1816, 'rank': 'I', 'wins': 109, 'losses': 178, 'veteran': True, 'inactive': False, 'freshBlood': False, 'hotStreak': False}, {'summonerId': 'TvxgvWNmx2zc1afjpOloHeso_pzbyvg9snzi78tDfTPxU48', 'summonerName': 'MaSskoT', 'leaguePoints': 377, 'rank': 'I', 'wins': 58, 'losses': 440, 'veteran': False, 'inactive': False, 'freshBlood': False, 'hotStreak': False}, {'summonerId': 'XR7c_0szJAen8zD4PkPp7tvqhDOdF6B2Yt6vuftjbwAMLIU', 'summonerName': 'Kappakuk da wae', 'leaguePoints': 379, 'rank': 'I', 'wins': 109, 'losses': 377, 'veteran': False, 'inactive': False, 'freshBlood': True, 'hotStreak': False}, {'summonerId': 'A9di4yQ-WQdg1Kac60gsbT-XwUVqzGWsMuyN7dqA9I-t87k', 'summonerName': 'TiredOfSmurfing', 'leaguePoints': 559, 'rank': 'I', 'wins': 42, 'losses': 39, 'veteran': False, 'inactive': False, 'freshBlood': False, 'hotStreak': False}, {'summonerId': 'GaaesfEMkWhEnLNDwHZIlbUh4ukdWo-YnBzxGGSvjGr_lD4', 'summonerName': 'ShayonZ', 'leaguePoints': 811, 'rank': 'I', 'wins': 80, 'losses': 248, 'veteran': True, 'inactive': False, 'freshBlood': False, 'hotStreak': False}, {'summonerId': 'Nlnrb32httUGJmc3KgxhdjTIRVljoSLzvm3A2bGe_kmRl80', 'summonerName': 'Rank1OrDeath', 'leaguePoints': 536, 'rank': 'I', 'wins': 43, 'losses': 275, 'veteran': False, 'inactive': False, 'freshBlood': True, 'hotStreak': False}, {'summonerId': 'T8clUB419hGLNHKE54qNBogn-7_EyNoDaBDW5W7FcILeem4', 'summonerName': 'No Ragrets', 'leaguePoints': 393, 'rank': 'I', 'wins': 47, 'losses': 184, 'veteran': False, 'inactive': False, 'freshBlood': False, 'hotStreak': False}, {'summonerId': 'xyq2Mwr9e5EnI4gPyYI2ivnrXAuRypP4Tfl_VQ5a4vrXG0M', 'summonerName': 'Kier0n', 'leaguePoints': 484, 'rank': 'I', 'wins': 50, 'losses': 162, 'veteran': False, 'inactive': False, 'freshBlood': True, 'hotStreak': False}, {'summonerId': 'WO1-nlzIwX_nm4bs95s75LqU_STxBPtlx_k0NTXeJsCsRgI', 'summonerName': 'DaSaEbaVMo6niq', 'leaguePoints': 1212, 'rank': 'I', 'wins': 72, 'losses': 209, 'veteran': True, 'inactive': False, 'freshBlood': False, 'hotStreak': True}, {'summonerId': 'wCSgzdZR1SHSnzqnIZ4L8y8VQkPRJbHp76nZ8vc1QSWQHL0', 'summonerName': 'Thrae', 'leaguePoints': 1553, 'rank': 'I', 'wins': 97, 'losses': 301, 'veteran': True, 'inactive': False, 'freshBlood': False, 'hotStreak': False}, {'summonerId': 'QpP6GqsejbXOTDU6L3djL_oQXNEdC7r2vaPCzNyLHESbT2I', 'summonerName': 'tiesIgnas', 'leaguePoints': 443, 'rank': 'I', 'wins': 49, 'losses': 265, 'veteran': False, 'inactive': False, 'freshBlood': True, 'hotStreak': False}, {'summonerId': 'CHmJARKf7Xhfdxu6b78XjnWpej0w_lezBYO5MMCtw9M5rmU', 'summonerName': 'Spatula Rasa', 'leaguePoints': 463, 'rank': 'I', 'wins': 75, 'losses': 568, 'veteran': False, 'inactive': False, 'freshBlood': False, 'hotStreak': False}, {'summonerId': 'dgrcaT8h9r8YcxpFhP0RbIjWhoMUl9d2jGLyMQYNR26tm_M', 'summonerName': 'victor victoris', 'leaguePoints': 405, 'rank': 'I', 'wins': 48, 'losses': 313, 'veteran': False, 'inactive': False, 'freshBlood': False, 'hotStreak': False}, {'summonerId': 'bhgeoEXQ87_R6PyLfu0YgCFMWOlWfizuHrAlOVrVJcrQE4c', 'summonerName': 'Quevash', 'leaguePoints': 391, 'rank': 'I', 'wins': 32, 'losses': 107, 'veteran': False, 'inactive': False, 'freshBlood': False, 'hotStreak': False}, {'summonerId': 'GeTi3cEG8AKVP5opW0H-6Shyyc1DMhS7F_qYNTMWOPLOwOU', 'summonerName': 'Razyo', 'leaguePoints': 341, 'rank': 'I', 'wins': 28, 'losses': 159, 'veteran': False, 'inactive': False, 'freshBlood': True, 'hotStreak': False}, {'summonerId': 'YeVjjFQYRWo9tBbZx9pmDJ8BWRVoA6xvqShHQ8XF7-WAQHc', 'summonerName': 'Deadsec TFT', 'leaguePoints': 1277, 'rank': 'I', 'wins': 79, 'losses': 261, 'veteran': True, 'inactive': False, 'freshBlood': False, 'hotStreak': False}, {'summonerId': 'EzcaD6KMn7b8qTfZPSq632gN1NpYCgFqOcXWTm_hwfuSqs0', 'summonerName': 'giogio12', 'leaguePoints': 513, 'rank': 'I', 'wins': 44, 'losses': 179, 'veteran': False, 'inactive': False, 'freshBlood': False, 'hotStreak': False}, {'summonerId': 'zcHMwqZOGm9NEU7EFYpnWCVUi_aKbLN7RvSBA_FAcsu94rE', 'summonerName': 'Mvp UnFeeLer', 'leaguePoints': 557, 'rank': 'I', 'wins': 46, 'losses': 166, 'veteran': False, 'inactive': False, 'freshBlood': False, 'hotStreak': False}, {'summonerId': 'wB_7uW_UOGEJJlDfJuVaLFlC_qxYnhM8_4JsNELLR9UpbVM', 'summonerName': 'GG DeliciousMilk', 'leaguePoints': 521, 'rank': 'I', 'wins': 48, 'losses': 162, 'veteran': False, 'inactive': False, 'freshBlood': False, 'hotStreak': False}, {'summonerId': '2X_ckygMnBjyDF40DlnftyHKryP85dCt0sFp0Kky1rny0wM', 'summonerName': 'SuraTFT', 'leaguePoints': 712, 'rank': 'I', 'wins': 47, 'losses': 125, 'veteran': False, 'inactive': False, 'freshBlood': False, 'hotStreak': False}, {'summonerId': 'wMYY7DT05esmwvXF3exL4V3fYetRC_Al6Y94KIC-hAaCyA0', 'summonerName': '010103N3R1K01010', 'leaguePoints': 461, 'rank': 'I', 'wins': 85, 'losses': 465, 'veteran': False, 'inactive': False, 'freshBlood': True, 'hotStreak': False}, {'summonerId': 'BmagQvP0xZJSdOAy_bYQAvEEbKBVuuGtmLTG2ZgrIeAgLCc', 'summonerName': 'MARStoiAN', 'leaguePoints': 375, 'rank': 'I', 'wins': 36, 'losses': 336, 'veteran': False, 'inactive': False, 'freshBlood': True, 'hotStreak': False}, {'summonerId': 'QKF7Gg414ornkwQE8X22OVWd8-u3FlFnTw4Fjr3XRCgMry4', 'summonerName': 'IbbyTFT', 'leaguePoints': 354, 'rank': 'I', 'wins': 57, 'losses': 101, 'veteran': False, 'inactive': False, 'freshBlood': False, 'hotStreak': False}, {'summonerId': '-vmXgasgGJr3BSUjrEnfRuYeSHgJJdweTl4VuknNBnLwFBU', 'summonerName': 'Gepard99', 'leaguePoints': 730, 'rank': 'I', 'wins': 58, 'losses': 172, 'veteran': True, 'inactive': False, 'freshBlood': False, 'hotStreak': False}, {'summonerId': 'uCSUFEEgSQHTCrFsp4CM4_qszHkmEieh7-06daQdGIiqy_E', 'summonerName': 'End of The Line', 'leaguePoints': 557, 'rank': 'I', 'wins': 105, 'losses': 584, 'veteran': True, 'inactive': False, 'freshBlood': False, 'hotStreak': False}, {'summonerId': 'AuXezlKpN_jxKZVQwGB4XR39jwXeL2-OiFhlpLXE5zo9jpY', 'summonerName': 'JonyLee', 'leaguePoints': 650, 'rank': 'I', 'wins': 69, 'losses': 303, 'veteran': False, 'inactive': False, 'freshBlood': True, 'hotStreak': False}, {'summonerId': 'Yp48r4-apBa84ZHTPqp7TwOIVp1kXSwPXbvnp3eTSY3Sip0', 'summonerName': 'DarkSynapse', 'leaguePoints': 412, 'rank': 'I', 'wins': 74, 'losses': 616, 'veteran': False, 'inactive': False, 'freshBlood': False, 'hotStreak': False}, {'summonerId': 'z92Fnz6HmET9uwoPP8C4D1IpFZLbFNAPh8_pog3aDwopK4c', 'summonerName': 'Deepityy', 'leaguePoints': 954, 'rank': 'I', 'wins': 55, 'losses': 172, 'veteran': False, 'inactive': False, 'freshBlood': False, 'hotStreak': True}, {'summonerId': '1iFy9j1u5xOqYv-KSyHDW9NGg5tmYIIlLZEG2NM1N6uK8WA', 'summonerName': 'VERONICAHUSBAND2', 'leaguePoints': 1458, 'rank': 'I', 'wins': 86, 'losses': 170, 'veteran': True, 'inactive': False, 'freshBlood': False, 'hotStreak': False}, {'summonerId': 'UVIp6e6vMUQALetVoWlducyRBZcitqAiZV8u1qauiullR8Q', 'summonerName': 'Cebo v9', 'leaguePoints': 357, 'rank': 'I', 'wins': 37, 'losses': 104, 'veteran': False, 'inactive': False, 'freshBlood': True, 'hotStreak': False}, {'summonerId': 'SZRE0aIG7saTWyo_mh9825UFAu6pGfysDzW3zvyEtNQJ5yU', 'summonerName': 'Icarus the XIII', 'leaguePoints': 573, 'rank': 'I', 'wins': 46, 'losses': 230, 'veteran': False, 'inactive': False, 'freshBlood': True, 'hotStreak': False}, {'summonerId': 'X1trp42VWBmLxjaKLQhS2qVnAowNLdgl3sO7hjvH33Q2nC8', 'summonerName': 'qqqwwweeerrrttt', 'leaguePoints': 1104, 'rank': 'I', 'wins': 68, 'losses': 161, 'veteran': False, 'inactive': False, 'freshBlood': False, 'hotStreak': False}, {'summonerId': 'dUPcvRvzR3J7PZQk4GsKOaBIII9hnmHefRcArfoXjiNfZbM', 'summonerName': 'Eslamwaheed', 'leaguePoints': 376, 'rank': 'I', 'wins': 77, 'losses': 464, 'veteran': False, 'inactive': False, 'freshBlood': True, 'hotStreak': False}, {'summonerId': 'Y0iWXSWUkouA9Q3WlGB_4iHnOcteuI0rBIw5Gc-_jfod8n0', 'summonerName': 'kocham michasia', 'leaguePoints': 854, 'rank': 'I', 'wins': 61, 'losses': 109, 'veteran': False, 'inactive': False, 'freshBlood': False, 'hotStreak': False}, {'summonerId': 'W9gUrwcqrxybL-Ns0JihR-EvHinAL_wcywaPJLGzcbAijWQ', 'summonerName': 'Kumihowo', 'leaguePoints': 532, 'rank': 'I', 'wins': 40, 'losses': 106, 'veteran': False, 'inactive': False, 'freshBlood': False, 'hotStreak': False}, {'summonerId': 'T32UopU0lNncuN4YZURDietI5xBzsk-lM1kfreXHewG3bi0', 'summonerName': 'Brixilolzsk', 'leaguePoints': 479, 'rank': 'I', 'wins': 59, 'losses': 260, 'veteran': True, 'inactive': False, 'freshBlood': False, 'hotStreak': False}, {'summonerId': '34-rnT0viWu3hKhlHd8Hw2YZ5L4Q3QzPNQV-DSw2f_LsEnA', 'summonerName': 'WP Szati', 'leaguePoints': 384, 'rank': 'I', 'wins': 52, 'losses': 208, 'veteran': False, 'inactive': False, 'freshBlood': True, 'hotStreak': False}, {'summonerId': 'vqg7RWbbx3yHHVjCuw8r2XufbG2xZZSiCagvrxswIPnxZ18', 'summonerName': 'Deepityyy', 'leaguePoints': 962, 'rank': 'I', 'wins': 69, 'losses': 160, 'veteran': False, 'inactive': False, 'freshBlood': False, 'hotStreak': False}, {'summonerId': '8-ouWr-BH5_2whkVLtLg_a4L-OeSWOE2_nc37gfUl2wA9kE', 'summonerName': 'TFT Hadaf', 'leaguePoints': 1234, 'rank': 'I', 'wins': 72, 'losses': 220, 'veteran': True, 'inactive': False, 'freshBlood': False, 'hotStreak': False}, {'summonerId': 'A5M8v4uC_DH1GWiHjeKhzB-wCyWe1tM1lV4on4JWKQjhIrs', 'summonerName': 'HústibyO', 'leaguePoints': 403, 'rank': 'I', 'wins': 61, 'losses': 351, 'veteran': False, 'inactive': False, 'freshBlood': False, 'hotStreak': False}, {'summonerId': 'pyFxU8rqQ10qt807aaf0k61aomDfGPMb9K2KDOH0mwYyO6o', 'summonerName': 'Redundancia', 'leaguePoints': 446, 'rank': 'I', 'wins': 52, 'losses': 133, 'veteran': False, 'inactive': False, 'freshBlood': False, 'hotStreak': False}, {'summonerId': 'T9nAEGb2H1QNl4dmaNg18iJSTM900bTz1r0BkvONP9JyCys', 'summonerName': 'Im Sneaky', 'leaguePoints': 359, 'rank': 'I', 'wins': 86, 'losses': 417, 'veteran': False, 'inactive': False, 'freshBlood': False, 'hotStreak': False}, {'summonerId': 'J7UDzsrcOVWriRkF2umYriFECxdXjW6AlojMy9S7rY3_xX8', 'summonerName': 'Hi Im Hadaf', 'leaguePoints': 1156, 'rank': 'I', 'wins': 48, 'losses': 182, 'veteran': True, 'inactive': False, 'freshBlood': False, 'hotStreak': False}, {'summonerId': '4UYqn0sVN1quHVoLVeXwNssrqvEYXBAPWMHBEoxRN-wIm5k', 'summonerName': 'Unlucky Team', 'leaguePoints': 384, 'rank': 'I', 'wins': 27, 'losses': 119, 'veteran': False, 'inactive': False, 'freshBlood': False, 'hotStreak': False}, {'summonerId': 'R5XqF-93SLftrDOAbMSjSvspl6GbWuU-ZvIgxfU3_lA-E4g', 'summonerName': 'Electrolyze', 'leaguePoints': 464, 'rank': 'I', 'wins': 46, 'losses': 157, 'veteran': False, 'inactive': False, 'freshBlood': False, 'hotStreak': False}, {'summonerId': 'Fflj93XOIW4lbqvuThGx8jHYE8HA6E05zi77juztP_53x30', 'summonerName': 'I Hope U All Die', 'leaguePoints': 481, 'rank': 'I', 'wins': 95, 'losses': 331, 'veteran': False, 'inactive': False, 'freshBlood': True, 'hotStreak': False}]\n"
     ]
    }
   ],
   "source": [
    "print(response.json().get(\"entries\"))"
   ]
  },
  {
   "cell_type": "code",
   "execution_count": 30,
   "metadata": {
    "colab": {
     "base_uri": "https://localhost:8080/",
     "height": 279
    },
    "colab_type": "code",
    "id": "4xzShysVsoXD",
    "outputId": "29f66496-0102-4fb5-9030-029f83cb9420"
   },
   "outputs": [
    {
     "data": {
      "text/html": [
       "<div>\n",
       "<style scoped>\n",
       "    .dataframe tbody tr th:only-of-type {\n",
       "        vertical-align: middle;\n",
       "    }\n",
       "\n",
       "    .dataframe tbody tr th {\n",
       "        vertical-align: top;\n",
       "    }\n",
       "\n",
       "    .dataframe thead th {\n",
       "        text-align: right;\n",
       "    }\n",
       "</style>\n",
       "<table border=\"1\" class=\"dataframe\">\n",
       "  <thead>\n",
       "    <tr style=\"text-align: right;\">\n",
       "      <th></th>\n",
       "      <th>summonerId</th>\n",
       "      <th>summonerName</th>\n",
       "      <th>leaguePoints</th>\n",
       "      <th>rank</th>\n",
       "      <th>wins</th>\n",
       "      <th>losses</th>\n",
       "      <th>veteran</th>\n",
       "      <th>inactive</th>\n",
       "      <th>freshBlood</th>\n",
       "      <th>hotStreak</th>\n",
       "    </tr>\n",
       "  </thead>\n",
       "  <tbody>\n",
       "    <tr>\n",
       "      <th>0</th>\n",
       "      <td>Bl1vcNCQRI4TpNr-oMqOV3--Pq3-e5kTfYGlHWxnHYD-z58</td>\n",
       "      <td>Strikerko</td>\n",
       "      <td>491</td>\n",
       "      <td>I</td>\n",
       "      <td>103</td>\n",
       "      <td>419</td>\n",
       "      <td>True</td>\n",
       "      <td>False</td>\n",
       "      <td>False</td>\n",
       "      <td>False</td>\n",
       "    </tr>\n",
       "    <tr>\n",
       "      <th>1</th>\n",
       "      <td>gkMqiCxDJhCrqujOLAzMXZR5woF01LY-p6Guc6LSX83Xawk</td>\n",
       "      <td>0rchide</td>\n",
       "      <td>373</td>\n",
       "      <td>I</td>\n",
       "      <td>56</td>\n",
       "      <td>343</td>\n",
       "      <td>False</td>\n",
       "      <td>False</td>\n",
       "      <td>True</td>\n",
       "      <td>False</td>\n",
       "    </tr>\n",
       "    <tr>\n",
       "      <th>2</th>\n",
       "      <td>N7Ip1Ud3UdnOTlIZjR6kL0Augl8ChQtazXFbFJ1e8Nf-ohA</td>\n",
       "      <td>Vipperipper</td>\n",
       "      <td>573</td>\n",
       "      <td>I</td>\n",
       "      <td>53</td>\n",
       "      <td>215</td>\n",
       "      <td>False</td>\n",
       "      <td>False</td>\n",
       "      <td>False</td>\n",
       "      <td>False</td>\n",
       "    </tr>\n",
       "    <tr>\n",
       "      <th>3</th>\n",
       "      <td>GJ7hDzWss8Zcnd9s-pvcMWIa72tEFFE6EHAXGMIy8V5nSzE</td>\n",
       "      <td>Άνεργος</td>\n",
       "      <td>378</td>\n",
       "      <td>I</td>\n",
       "      <td>41</td>\n",
       "      <td>223</td>\n",
       "      <td>False</td>\n",
       "      <td>False</td>\n",
       "      <td>True</td>\n",
       "      <td>False</td>\n",
       "    </tr>\n",
       "    <tr>\n",
       "      <th>4</th>\n",
       "      <td>vSp2JvGzor1BndY3TCQ2gQOk0kSCM-E3ljC4oCrFNRYGuRA</td>\n",
       "      <td>VERONICA HUSBAND</td>\n",
       "      <td>1816</td>\n",
       "      <td>I</td>\n",
       "      <td>109</td>\n",
       "      <td>178</td>\n",
       "      <td>True</td>\n",
       "      <td>False</td>\n",
       "      <td>False</td>\n",
       "      <td>False</td>\n",
       "    </tr>\n",
       "  </tbody>\n",
       "</table>\n",
       "</div>"
      ],
      "text/plain": [
       "                                        summonerId  ... hotStreak\n",
       "0  Bl1vcNCQRI4TpNr-oMqOV3--Pq3-e5kTfYGlHWxnHYD-z58  ...     False\n",
       "1  gkMqiCxDJhCrqujOLAzMXZR5woF01LY-p6Guc6LSX83Xawk  ...     False\n",
       "2  N7Ip1Ud3UdnOTlIZjR6kL0Augl8ChQtazXFbFJ1e8Nf-ohA  ...     False\n",
       "3  GJ7hDzWss8Zcnd9s-pvcMWIa72tEFFE6EHAXGMIy8V5nSzE  ...     False\n",
       "4  vSp2JvGzor1BndY3TCQ2gQOk0kSCM-E3ljC4oCrFNRYGuRA  ...     False\n",
       "\n",
       "[5 rows x 10 columns]"
      ]
     },
     "execution_count": 30,
     "metadata": {
      "tags": []
     },
     "output_type": "execute_result"
    }
   ],
   "source": [
    "r = pd.DataFrame(response.json().get(\"entries\"))\n",
    "r.head()"
   ]
  },
  {
   "cell_type": "code",
   "execution_count": 31,
   "metadata": {
    "colab": {
     "base_uri": "https://localhost:8080/",
     "height": 34
    },
    "colab_type": "code",
    "id": "b0QOTCTg-bJM",
    "outputId": "1edfaeb3-7290-4403-85d2-4ab74b8fe100"
   },
   "outputs": [
    {
     "data": {
      "text/plain": [
       "(50, 10)"
      ]
     },
     "execution_count": 31,
     "metadata": {
      "tags": []
     },
     "output_type": "execute_result"
    }
   ],
   "source": [
    "r.shape"
   ]
  },
  {
   "cell_type": "code",
   "execution_count": 32,
   "metadata": {
    "colab": {
     "base_uri": "https://localhost:8080/",
     "height": 70
    },
    "colab_type": "code",
    "id": "ZKxDhJXK4iHm",
    "outputId": "c26ae13e-3ee5-4eca-8bc6-e6ade87690f0"
   },
   "outputs": [
    {
     "name": "stdout",
     "output_type": "stream",
     "text": [
      "Strikerko\n",
      "{'id': 'Bl1vcNCQRI4TpNr-oMqOV3--Pq3-e5kTfYGlHWxnHYD-z58', 'accountId': 'ayYVpfv2lhYF9RJY-ifVBwkOgAFOkyuES-yChOevPlW8np0', 'puuid': '3dpJFUyUwATeIuH-4V2M__2W0dmQTPlpssatx39zgB9h7k1UUDXKyfLRncVR8ROtEduFI2XCxgAkHw', 'name': 'Strikerko', 'profileIconId': 682, 'revisionDate': 1580122475000, 'summonerLevel': 185}\n"
     ]
    }
   ],
   "source": [
    "print(np.array(r)[0][1])\n",
    "url3 = \"https://eun1.api.riotgames.com//tft/summoner/v1/summoners/by-name/\"+np.array(r)[0][1]+\"?api_key=\"+apiKey\n",
    "print(requests.get(url3).json())"
   ]
  },
  {
   "cell_type": "code",
   "execution_count": null,
   "metadata": {
    "colab": {},
    "colab_type": "code",
    "id": "_P3pkUPf_PLR"
   },
   "outputs": [],
   "source": [
    "url4 = \"https://eun1.api.riotgames.com//tft/summoner/v1/summoners/by-name/\"+np.array(r)[0][1]+\"?api_key=\"+apiKey"
   ]
  },
  {
   "cell_type": "code",
   "execution_count": null,
   "metadata": {
    "colab": {},
    "colab_type": "code",
    "id": "Dk4OGIB_OgSr"
   },
   "outputs": [],
   "source": [
    "# class Riot_API_handler:\n",
    "\n",
    "#     def get_challenger_league(self, api):\n",
    "#         url = \"https://eun1.api.riotgames.com/tft/league/v1/challenger\"+\"?api_key=\"+apiKey"
   ]
  },
  {
   "cell_type": "code",
   "execution_count": null,
   "metadata": {
    "colab": {},
    "colab_type": "code",
    "id": "FPXHaAFtO5jy"
   },
   "outputs": [],
   "source": [
    "def get_challenger_league(api):\n",
    "    '''\n",
    "        returns: np.array of challangers league summoners names\n",
    "    '''\n",
    "    url = \"https://eun1.api.riotgames.com/tft/league/v1/challenger\"+\"?api_key=\"+apiKey\n",
    "    response = requests.get(url)\n",
    "    r = pd.DataFrame(response.json().get(\"entries\"))\n",
    "    return np.array(r).T[1]\n",
    "\n",
    "# print(get_challenger_league(apiKey))"
   ]
  },
  {
   "cell_type": "code",
   "execution_count": null,
   "metadata": {
    "colab": {},
    "colab_type": "code",
    "id": "-exvkdglQeyd"
   },
   "outputs": [],
   "source": [
    "def summoners_name_to_puuid(name, api):\n",
    "    url = \"https://eun1.api.riotgames.com/tft/summoner/v1/summoners/by-name/\"+name+\"?api_key=\"+api\n",
    "    return  requests.get(url).json()['puuid']\n",
    "\n",
    "# print(summoners_name_to_puuid('VERONICA HUSBAND', apiKey))\n"
   ]
  },
  {
   "cell_type": "code",
   "execution_count": 97,
   "metadata": {
    "colab": {
     "base_uri": "https://localhost:8080/",
     "height": 54
    },
    "colab_type": "code",
    "id": "M6n6p2rtSrEc",
    "outputId": "6026d546-6de6-4e1d-c390-a6c427ba3d08"
   },
   "outputs": [
    {
     "name": "stdout",
     "output_type": "stream",
     "text": [
      "['EUN1_2363562534', 'EUN1_2363515292', 'EUN1_2363509979', 'EUN1_2363485756', 'EUN1_2363461656', 'EUN1_2363458224', 'EUN1_2363305296', 'EUN1_2363302687', 'EUN1_2358289759', 'EUN1_2358259910']\n"
     ]
    }
   ],
   "source": [
    "def get_games_id_from_summoners_puuid(puuid, api, n=10):\n",
    "    url = \"https://europe.api.riotgames.com/tft/match/v1/matches/by-puuid/\"+puuid+\"/ids?count=\"+str(n)+\"&api_key=\"+api\n",
    "    return requests.get(url).json()\n",
    "\n",
    "# print(get_games_id_from_summoners_puuid(\"aq5G8_r38wwt3_D9Ty1WV7UjM4lOCtrnnd3hahvFoI2bG3VdoYpCC9zDKAl4K8YSQpovnTlJF3oLcQ\", apiKey))"
   ]
  },
  {
   "cell_type": "code",
   "execution_count": null,
   "metadata": {
    "colab": {},
    "colab_type": "code",
    "id": "tUu-fBWJUGpr"
   },
   "outputs": [],
   "source": [
    "def get_game_details_from_game_id(game_id, api):\n",
    "    url = \"https://europe.api.riotgames.com/tft/match/v1/matches/\"+game_id+\"?api_key=\"+api\n",
    "    response = requests.get(url).json()['info']['participants']\n",
    "    # print(np.array(response).shape)\n",
    "    ans = []\n",
    "    for i in response:\n",
    "        player = []\n",
    "        for champs in i['units']:\n",
    "            # print(champs)\n",
    "            # print(champs['name'], champs['items'], champs['tier'])\n",
    "            player.append([champs['name'], champs['items'], champs['tier']])\n",
    "        # print(player)\n",
    "        ans.append(player)\n",
    "    return ans\n",
    "\n",
    "# test = get_game_details_from_game_id(\"EUN1_2363562534\", apiKey)\n",
    "# print(test[0])"
   ]
  },
  {
   "cell_type": "code",
   "execution_count": null,
   "metadata": {
    "colab": {},
    "colab_type": "code",
    "id": "6M1nP1g5akm7"
   },
   "outputs": [],
   "source": [
    "# 1\n",
    "players = get_challenger_league(apiKey)\n"
   ]
  },
  {
   "cell_type": "code",
   "execution_count": null,
   "metadata": {
    "colab": {},
    "colab_type": "code",
    "id": "AyoBH_YObp7a"
   },
   "outputs": [],
   "source": [
    "# 50\n",
    "players_id = []\n",
    "for p in players[:10]:\n",
    "    players_id.append(summoners_name_to_puuid(p, apiKey))"
   ]
  },
  {
   "cell_type": "code",
   "execution_count": null,
   "metadata": {
    "colab": {},
    "colab_type": "code",
    "id": "Dz7mMEXMbvpo"
   },
   "outputs": [],
   "source": [
    "\n",
    "for p in players[10:20]:\n",
    "    players_id.append(summoners_name_to_puuid(p, apiKey))"
   ]
  },
  {
   "cell_type": "code",
   "execution_count": null,
   "metadata": {
    "colab": {},
    "colab_type": "code",
    "id": "2jPpHKqkbvsD"
   },
   "outputs": [],
   "source": [
    "\n",
    "for p in players[20:30]:\n",
    "    players_id.append(summoners_name_to_puuid(p, apiKey))"
   ]
  },
  {
   "cell_type": "code",
   "execution_count": null,
   "metadata": {
    "colab": {},
    "colab_type": "code",
    "id": "4kR6JSTlbzYr"
   },
   "outputs": [],
   "source": [
    "\n",
    "for p in players[30:40]:\n",
    "    players_id.append(summoners_name_to_puuid(p, apiKey))"
   ]
  },
  {
   "cell_type": "code",
   "execution_count": null,
   "metadata": {
    "colab": {},
    "colab_type": "code",
    "id": "FERUpGL7bzb1"
   },
   "outputs": [],
   "source": [
    "\n",
    "for p in players[40:50]:\n",
    "    players_id.append(summoners_name_to_puuid(p, apiKey))"
   ]
  },
  {
   "cell_type": "code",
   "execution_count": 94,
   "metadata": {
    "colab": {
     "base_uri": "https://localhost:8080/",
     "height": 70
    },
    "colab_type": "code",
    "id": "ceYTP3yMb4vk",
    "outputId": "685e49a7-22ad-4490-98f1-c9cb66b5cc7b"
   },
   "outputs": [
    {
     "name": "stdout",
     "output_type": "stream",
     "text": [
      "['tIBglGoKjJWlFBoxhDf2Xhj9vYoC2eB9etvvrVweYMBzzTdkKy8UvhvrXqwghNleUgDOIPHMxtye2A', 'tSxeZxXOAJHYksUlxwHGyX9CUx3kRQdlh4qoxLXtOP8Zi1RhjghKtsHH1OhtJFygVrTe95Iuonvysw', 'rfjeMEVZcpm5NUvwBodc4h-f6W2U8gSyXIqIVaRQnruhHCjAEcVzpYOezFe9R-8rumsnoZXpckMYpQ', 'JRqTQNYHmPQ94nJOv9LfjpD-tfudTS7W0Kjp57Aqmk6r3KlwTlGVU5l8Nc8PF4ZaBDPiSWQTEu7Clg', 'lEg8TW9GdgnFhtNlq5u-x5_LTHp3cuRnSS8inK6vfVrB5N_Yx075tPagtuzfuZnuzZ0hQf1p2h10bg', 'lyys1R6PR4PC6Y6tARwwZIXufT6DaYAUW0038qY874oA1kG30rfpuGH2wpyhWBJ1TZBypvIA6mTAKQ', '8C_-99M-iU3iT-gptss_Xu-_ElThzNuqcuaH2zAxOn0XZ6YBdkxqaJVAwos9QIYDcHxv-ySRXipbwg', 'aq5G8_r38wwt3_D9Ty1WV7UjM4lOCtrnnd3hahvFoI2bG3VdoYpCC9zDKAl4K8YSQpovnTlJF3oLcQ', '9rykt8nB1gq9rKzHH5IT53Tr0BVm1OwZjbfAusliTWQ2Gms1tu6lI2pC1_UNHb96C3OeDhLVa-fl3w', 'I5ElpWgeQ-7zGqmyZ-vgRwBnK4jvvMH_NJ8sgjTTCBbpm341vxW-D30cRo62pt7sCAdu_f690h02CA', 'vAlCIHi-TYmbem_QI2H8qZTnrQKMn7iUOgykYO5hHH5rbjgB_9B2TGeYkRluxiVhyM0-cMrvyrNqeg', '0aDUqnCwwEgep61J2o2TbcZRju_3hMqq8bk_crsh6nDH7FlkkSNdkuIyahfVUCKs7KTF42hDlpIJ4A', '0eMrtzbkojEdTJqGAKJM_c-Yo5K4yjjfnoRIA4Ypg8OghgjZ5W6crrCh7F5IDrSPU3Ev80YICPpdkQ', 'U4VDljACYNSxytowbf8Uqge7OnFzbLG4O4v4YgOBjEU5KmnvlXSiyln_cBCWav4abNkVXQwnedlF-A', 't3BAoQauvIaTEglJaYS6so5muNmvxhjYHvSG2x3W5Prds81SMoba0mhNe6xTbzS52PTfYlMazsefAw', 'LC6TvogDyrfivBbqyRYGwK_knSzl-pVdVEwiyQf4gGF24ytRUg65qoXV7nROk5tuRUV2EVSVnJSenA', 'slzEivAQkT7jgJESgk18qrlhHT5WyfGBvMgNVe8U7ILl2oVJissPm9PoSU7O0sFBgWh8nwsEeexfiA', 'B7pdc2uz0u4pc1UDy2khC-5y7j9gzy0i4yQk8SSqL8nM77iv5G5d-mgMu2G0Ult2O1JizBjzYoAbng', 'Rll1uq1TFudYiwGH-171P7f_qHGA6Ici-dm9tLJx1BH2eNeLHruE8-dsN-iiuF9LRxotU8BdOKXKbw', 'fhWjxTklyihIp4Ax9YnMah8ri_f7q9jBWWwbMcl6qe_xvKMj0HS0yFCkrWF8ihJV7p875hVzsX5mAg', 'V8fs__7REdUu5M1TOkexZ7kdNjbybbLdm5bDissomZ_63rX6l1bNtMBNfeprcI1QceqqP2Lx2c0HVQ', '3dpJFUyUwATeIuH-4V2M__2W0dmQTPlpssatx39zgB9h7k1UUDXKyfLRncVR8ROtEduFI2XCxgAkHw', 'ZJ1f4snjkDM0moyop7mZQ_3YflE2CdSulhifxHWkTCRaTJIhx6NzivFrwipUMES5Dzny4tvX9cefSw', 'UEeAg--GaeSMq3yeRmjhIgIzbka6c6dqHMcsoZeOds5L3x-UXD3lKpuJYEgkiKimq8mwW-7yPYbv4w', 'A1cNFIn7Bc1qqy630KB0AMgnqDo1S89rvZcUSuMatJpwzA7xorr0wjOKpjQX-ZB1NaF_DUF4aL6DFQ', 'MejgRfu0Udwd4kK0aPoxe8ct2-lX5bWpA4RsODzUvcpxZ3P4Kn6Gt-p1Te3wYolNyBsj6oQ0JOFKAw', 'KsPB5FUWFyWpnopXeJV8LzNgPtATGGBIb7dHpLqktcyaSKC5k-Sk8SyE5bz1xSgwmWeIPdbaMyEuvw', 'OEoBz6A4pkL8EGqAP4k6_kESeNN_98UBKRC-A1R-rlS4HaGKnLLeuPG2_LQ3xFeMez8qOaaeLkK8Bw', 'GKUgF_WhXi5uaorbr6Tf6jhSssrgsRfGiOj6w1PG64jVMHbtWiIKAYg2P-EXAnv-jeIalMVt-VSL5A', 'rOH-AWvRkcJuBUaivr-Z7j4pd43b_3rwNqFQAQM6snUeKS4MaicCsyaehLj7Os48oeG7mohksaOgpw', 'bIVP-lEmjQc4mNaA5LV0-f5xSWDi-fYIdYO7-7QlpbdX1NhFCIFe4vAvLlVf_5r88kTcui8_a9dZaw', '37IQWnLvmJhK5Wuf-e0BvC9bV2ys6WHKkZ2F47QWxg0X0dxusIr6UhAvLma7MXjOv6sqjbc0p114Ew', '9I-GzEBCa8kNhPRgdeQiLytUxOY25rBWvVemRuHyF3IJU-QLt6-XR5ISq4S5Y7GV4QkEzQBf97IMSg', 'HZX8wwJBUbGeKQSOCX70fP2baDHRJpkTIMoCnKSCRbtWnupkJLCcW4fXWPV_yQKr3KNFwTha0scjEw', 'FKfRjJt9Qw2LCdb80ETJMm60EOANFOaAbYrTDficf1CBeTwf5gtAq1RraOP9Dr0mhxWAh1jIk2OlMg', 'W3qgfUzU-lgKCqLQle0fnOCmo_9EjlFY475chZl27KZa6fXGwv7lYtTLSA6nEKIdV0VFxtSiNyzKXg', '0p9dpq2nVNFKGQCDbz5Xaw-i2xgOlp3RQRoMbcMpkLXGXrA2LlF7AChdg5Yu26eDTnPgbh6idwmw7Q', '0aXMcyAzET3sDOCu9tvdE15jka8H_2sFJ7lc33bGx06P5Y-chnq9XKASuNsxb2303bsNYs2lSF5hQQ', 'hMBLx_qwNuZH1tDm9b8fPJo0FLGJ_V5HE2kZ8xZ4p17exp4JouCLNBE8jX62uw5wd7Wz3V-y1wK_Cw', 'BkabVOCDfhq4tYeiCmBtYRyJWKJvaMys26KnSAN-SWsqKfuGyPx-EyOeIOSOYZC9wf4A5lzmoaAvPg', 'zczqXhvlbgyqW12_hNVSNaCkP_eom3NKy-NkKHycHzFcC1r6uQzBRjAjDEzHPYOvgi_YoLrqOYH4ug', 'eBiPyc9wL-Qrbr-wiwugfsA6-ND8GnDTEW9EMCnwOxRQTxw9OkI-IFRbZFncBH7qflr_VuY0eZrvQA', 'NZXB1VgjmZzFuJMAuY-5yAgUONi5WVYhrSRc4HO-0-xAxveE_SGYyeGhJrIeMBmBd45JpEfdG5yH1w', 't1D3YEp3hEcozbnh01CnSEJsDKBWcCbU0TNgukZX2TXVSaxSuGPrxkGUquecage2cmvP6P_1xqQKaw', 'YVnmejmoXInjhLF4DbPz-uACg379Ko8sDVHbUvArnJZjT6Yq34NJcFPr8EhAdAGuGxcfBPXCvRO8Wg', 'LSpZPzasu38VLJbhdM06O3v8Ycja3xdG8PDHWfXmZXrXzzcSkpeJngLIJSAcCOCvrxj3Y2rzIVbGqg', 'vSVBmnDlnwdgsSisHTjcz_vXGtvNE6mEdqlz7pj71dVWmi6pL4eabQaf3fnjXK8wUkioRl3_Ptle9w', 'T_-6FZ8p-XQQQqE30cP5k6z9k8FdrC2MvZWP3QyQAdRegUXGQKx39FJsOwz3QK8GQDdy08yF8zdiCw', 'w5kY6lLKbTbsBB_QZgeoz87Nxj9RrpL-xrkzNBisl8Khj1ZQTU_3GHFUy7_RGrL6ChLYjLeJ3hkOTw', 'WTZM6R6qxfo-su4Wm0AZiraoeSBiXEUjrU7JrJMHAY4h_tNwmNHnTqnCz5Veh4F2m5vv2H_y4ruEpw']\n",
      "(50,)\n"
     ]
    }
   ],
   "source": [
    "print(players_id)\n",
    "print(np.array(players_id).shape)"
   ]
  },
  {
   "cell_type": "code",
   "execution_count": null,
   "metadata": {
    "colab": {},
    "colab_type": "code",
    "id": "j0rER_RNcdgD"
   },
   "outputs": [],
   "source": [
    "games_id = set()\n",
    "for p in players_id[:10]:\n",
    "    list_of_games = get_games_id_from_summoners_puuid(p, apiKey, 100)\n",
    "    for l in list_of_games:\n",
    "        games_id.add(l)"
   ]
  },
  {
   "cell_type": "code",
   "execution_count": null,
   "metadata": {
    "colab": {},
    "colab_type": "code",
    "id": "kXJEY4R9dh8c"
   },
   "outputs": [],
   "source": [
    "for p in players_id[10:20]:\n",
    "    list_of_games = get_games_id_from_summoners_puuid(p, apiKey, 100)\n",
    "    for l in list_of_games:\n",
    "        games_id.add(l)"
   ]
  },
  {
   "cell_type": "code",
   "execution_count": null,
   "metadata": {
    "colab": {},
    "colab_type": "code",
    "id": "nzzWf7_ldh-7"
   },
   "outputs": [],
   "source": [
    "for p in players_id[20:30]:\n",
    "    list_of_games = get_games_id_from_summoners_puuid(p, apiKey, 100)\n",
    "    for l in list_of_games:\n",
    "        games_id.add(l)"
   ]
  },
  {
   "cell_type": "code",
   "execution_count": null,
   "metadata": {
    "colab": {},
    "colab_type": "code",
    "id": "bxng8vHkdiB8"
   },
   "outputs": [],
   "source": [
    "for p in players_id[30:40]:\n",
    "    list_of_games = get_games_id_from_summoners_puuid(p, apiKey, 100)\n",
    "    for l in list_of_games:\n",
    "        games_id.add(l)"
   ]
  },
  {
   "cell_type": "code",
   "execution_count": null,
   "metadata": {
    "colab": {},
    "colab_type": "code",
    "id": "suK2sLwidiVn"
   },
   "outputs": [],
   "source": [
    "for p in players_id[40:50]:\n",
    "    list_of_games = get_games_id_from_summoners_puuid(p, apiKey, 100)\n",
    "    for l in list_of_games:\n",
    "        games_id.add(l)"
   ]
  },
  {
   "cell_type": "code",
   "execution_count": 107,
   "metadata": {
    "colab": {
     "base_uri": "https://localhost:8080/",
     "height": 34
    },
    "colab_type": "code",
    "id": "tw8fEP9ceDaa",
    "outputId": "649dcee2-98a7-4f1b-ec14-92aeaaf59a5f"
   },
   "outputs": [
    {
     "data": {
      "text/plain": [
       "3607"
      ]
     },
     "execution_count": 107,
     "metadata": {
      "tags": []
     },
     "output_type": "execute_result"
    }
   ],
   "source": [
    "len(games_id)"
   ]
  },
  {
   "cell_type": "code",
   "execution_count": null,
   "metadata": {
    "colab": {},
    "colab_type": "code",
    "id": "-AHqFaP-eoSO"
   },
   "outputs": [],
   "source": [
    "import json\n",
    "with open('games_id.json', 'w') as f:\n",
    "    json.dump(list(games_id), f)"
   ]
  },
  {
   "cell_type": "code",
   "execution_count": 121,
   "metadata": {
    "colab": {
     "base_uri": "https://localhost:8080/",
     "height": 67
    },
    "colab_type": "code",
    "id": "MFL4oRp2fsOV",
    "outputId": "f52cb678-6c60-4ae4-80f3-a2908133f4f7"
   },
   "outputs": [
    {
     "name": "stderr",
     "output_type": "stream",
     "text": [
      "100%|██████████| 180/180 [1:15:02<00:00, 25.01s/it]\n"
     ]
    },
    {
     "name": "stdout",
     "output_type": "stream",
     "text": [
      "\n",
      "3599\n"
     ]
    }
   ],
   "source": [
    "import time\n",
    "import tqdm\n",
    "\n",
    "games_id = list(games_id)\n",
    "all_games = []\n",
    "starttime = time.time()\n",
    "for i in tqdm.tqdm(range(len(games_id)//20)):    \n",
    "    starttime = time.time()\n",
    "    for j in range(20):\n",
    "        try:\n",
    "            all_games.append(get_game_details_from_game_id(games_id[i*20+j], apiKey))\n",
    "        except:\n",
    "            pass\n",
    "    time.sleep(25.0 - (time.time()-starttime))\n",
    "\n",
    "print()\n",
    "print(len(all_games))\n",
    "\n",
    "with open('games.json', 'w') as f:\n",
    "    json.dump(all_games, f)"
   ]
  },
  {
   "cell_type": "code",
   "execution_count": 123,
   "metadata": {
    "colab": {
     "base_uri": "https://localhost:8080/",
     "height": 34
    },
    "colab_type": "code",
    "id": "fxOAH-FIi-pC",
    "outputId": "f1fb611e-c45e-4630-b50c-af445ed82ec2"
   },
   "outputs": [
    {
     "data": {
      "text/plain": [
       "3599"
      ]
     },
     "execution_count": 123,
     "metadata": {
      "tags": []
     },
     "output_type": "execute_result"
    }
   ],
   "source": [
    "len(all_games)"
   ]
  }
 ],
 "metadata": {
  "colab": {
   "collapsed_sections": [],
   "name": "TFT_api.ipynb",
   "provenance": []
  },
  "kernelspec": {
   "display_name": "Python 3",
   "language": "python",
   "name": "python3"
  },
  "language_info": {
   "codemirror_mode": {
    "name": "ipython",
    "version": 3
   },
   "file_extension": ".py",
   "mimetype": "text/x-python",
   "name": "python",
   "nbconvert_exporter": "python",
   "pygments_lexer": "ipython3",
   "version": "3.8.1"
  }
 },
 "nbformat": 4,
 "nbformat_minor": 4
}
