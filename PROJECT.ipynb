{
 "cells": [
  {
   "cell_type": "markdown",
   "metadata": {},
   "source": [
    "# What is going on in here?\n",
    "Main goal of this project is to predict that there are relations between in-game charackters and in what kind of composition, they winnability is the highest. The game is a variant od League of Legends, called Teamfight Tactits (TFT), which is turn based and non-deterministic. Players role is to compose set of characters, that beats other players compositions. Throughout the game, armies are getting bigger and characters are getting stronger. We will be covering final stage, when are units are available. Important information is, that each unit has some special traits, so collecting characters with same traits will benefit the player. Our plan is to find best combinations of 2-3 units that are the most succesful and after such classification, compare it to the traits."
   ]
  },
  {
   "cell_type": "markdown",
   "metadata": {},
   "source": [
    "### Necessary libraries"
   ]
  },
  {
   "cell_type": "code",
   "execution_count": 2,
   "metadata": {},
   "outputs": [],
   "source": [
    "import numpy as np\n",
    "import requests\n",
    "from bs4 import BeautifulSoup\n",
    "import pandas as pd\n",
    "import time\n",
    "import tqdm\n",
    "import json"
   ]
  },
  {
   "cell_type": "code",
   "execution_count": null,
   "metadata": {},
   "outputs": [],
   "source": []
  }
 ],
 "metadata": {
  "kernelspec": {
   "display_name": "Python 3",
   "language": "python",
   "name": "python3"
  },
  "language_info": {
   "codemirror_mode": {
    "name": "ipython",
    "version": 3
   },
   "file_extension": ".py",
   "mimetype": "text/x-python",
   "name": "python",
   "nbconvert_exporter": "python",
   "pygments_lexer": "ipython3",
   "version": "3.8.1"
  }
 },
 "nbformat": 4,
 "nbformat_minor": 4
}
