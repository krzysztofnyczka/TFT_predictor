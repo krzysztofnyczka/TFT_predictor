{
 "cells": [
  {
   "cell_type": "code",
   "execution_count": 57,
   "metadata": {},
   "outputs": [],
   "source": [
    "import pandas as pd\n",
    "import numpy as np\n",
    "from sklearn.tree import DecisionTreeRegressor, DecisionTreeClassifier\n",
    "from sklearn import tree\n",
    "from sklearn.linear_model import LinearRegression\n",
    "from Tree import Tree\n",
    "import matplotlib.pyplot as plt"
   ]
  },
  {
   "cell_type": "code",
   "execution_count": 11,
   "metadata": {},
   "outputs": [
    {
     "data": {
      "text/html": [
       "<div>\n",
       "<style scoped>\n",
       "    .dataframe tbody tr th:only-of-type {\n",
       "        vertical-align: middle;\n",
       "    }\n",
       "\n",
       "    .dataframe tbody tr th {\n",
       "        vertical-align: top;\n",
       "    }\n",
       "\n",
       "    .dataframe thead th {\n",
       "        text-align: right;\n",
       "    }\n",
       "</style>\n",
       "<table border=\"1\" class=\"dataframe\">\n",
       "  <thead>\n",
       "    <tr style=\"text-align: right;\">\n",
       "      <th></th>\n",
       "      <th>Release date</th>\n",
       "      <th>Max resolution</th>\n",
       "      <th>Low resolution</th>\n",
       "      <th>Effective pixels</th>\n",
       "      <th>Zoom wide (W)</th>\n",
       "      <th>Zoom tele (T)</th>\n",
       "      <th>Normal focus range</th>\n",
       "      <th>Macro focus range</th>\n",
       "      <th>Storage included</th>\n",
       "      <th>Weight (inc. batteries)</th>\n",
       "      <th>Dimensions</th>\n",
       "      <th>Price</th>\n",
       "    </tr>\n",
       "  </thead>\n",
       "  <tbody>\n",
       "    <tr>\n",
       "      <th>0</th>\n",
       "      <td>1997</td>\n",
       "      <td>1024.0</td>\n",
       "      <td>640.0</td>\n",
       "      <td>0.0</td>\n",
       "      <td>38.0</td>\n",
       "      <td>114.0</td>\n",
       "      <td>70.0</td>\n",
       "      <td>40.0</td>\n",
       "      <td>4.0</td>\n",
       "      <td>420.0</td>\n",
       "      <td>95.0</td>\n",
       "      <td>179.0</td>\n",
       "    </tr>\n",
       "    <tr>\n",
       "      <th>1</th>\n",
       "      <td>1998</td>\n",
       "      <td>1280.0</td>\n",
       "      <td>640.0</td>\n",
       "      <td>1.0</td>\n",
       "      <td>38.0</td>\n",
       "      <td>114.0</td>\n",
       "      <td>50.0</td>\n",
       "      <td>0.0</td>\n",
       "      <td>4.0</td>\n",
       "      <td>420.0</td>\n",
       "      <td>158.0</td>\n",
       "      <td>179.0</td>\n",
       "    </tr>\n",
       "    <tr>\n",
       "      <th>4</th>\n",
       "      <td>1999</td>\n",
       "      <td>1152.0</td>\n",
       "      <td>640.0</td>\n",
       "      <td>0.0</td>\n",
       "      <td>43.0</td>\n",
       "      <td>43.0</td>\n",
       "      <td>50.0</td>\n",
       "      <td>0.0</td>\n",
       "      <td>40.0</td>\n",
       "      <td>300.0</td>\n",
       "      <td>128.0</td>\n",
       "      <td>1299.0</td>\n",
       "    </tr>\n",
       "    <tr>\n",
       "      <th>5</th>\n",
       "      <td>2001</td>\n",
       "      <td>1600.0</td>\n",
       "      <td>640.0</td>\n",
       "      <td>1.0</td>\n",
       "      <td>51.0</td>\n",
       "      <td>51.0</td>\n",
       "      <td>50.0</td>\n",
       "      <td>20.0</td>\n",
       "      <td>8.0</td>\n",
       "      <td>270.0</td>\n",
       "      <td>119.0</td>\n",
       "      <td>179.0</td>\n",
       "    </tr>\n",
       "    <tr>\n",
       "      <th>8</th>\n",
       "      <td>1996</td>\n",
       "      <td>832.0</td>\n",
       "      <td>640.0</td>\n",
       "      <td>0.0</td>\n",
       "      <td>50.0</td>\n",
       "      <td>50.0</td>\n",
       "      <td>40.0</td>\n",
       "      <td>10.0</td>\n",
       "      <td>1.0</td>\n",
       "      <td>460.0</td>\n",
       "      <td>160.0</td>\n",
       "      <td>139.0</td>\n",
       "    </tr>\n",
       "  </tbody>\n",
       "</table>\n",
       "</div>"
      ],
      "text/plain": [
       "   Release date  Max resolution  Low resolution  Effective pixels  \\\n",
       "0          1997          1024.0           640.0               0.0   \n",
       "1          1998          1280.0           640.0               1.0   \n",
       "4          1999          1152.0           640.0               0.0   \n",
       "5          2001          1600.0           640.0               1.0   \n",
       "8          1996           832.0           640.0               0.0   \n",
       "\n",
       "   Zoom wide (W)  Zoom tele (T)  Normal focus range  Macro focus range  \\\n",
       "0           38.0          114.0                70.0               40.0   \n",
       "1           38.0          114.0                50.0                0.0   \n",
       "4           43.0           43.0                50.0                0.0   \n",
       "5           51.0           51.0                50.0               20.0   \n",
       "8           50.0           50.0                40.0               10.0   \n",
       "\n",
       "   Storage included  Weight (inc. batteries)  Dimensions   Price  \n",
       "0               4.0                    420.0        95.0   179.0  \n",
       "1               4.0                    420.0       158.0   179.0  \n",
       "4              40.0                    300.0       128.0  1299.0  \n",
       "5               8.0                    270.0       119.0   179.0  \n",
       "8               1.0                    460.0       160.0   139.0  "
      ]
     },
     "execution_count": 11,
     "metadata": {},
     "output_type": "execute_result"
    }
   ],
   "source": [
    "df = pd.read_csv('cameras.csv')\n",
    "df.dropna(inplace=True) # dropping only 2 rows\n",
    "df.drop(df[df['Low resolution'] == 0.0].index, inplace=True) # dropping 50 rows\n",
    "df.drop(df[df['Weight (inc. batteries)'] == 0.0].index, inplace=True) # dropping 19 rows\n",
    "df.drop(df[df['Dimensions'] == 0.0].index, inplace=True) # dropping 3 rows\n",
    "df.drop('Model', axis=1, inplace=True)\n",
    "df.head()"
   ]
  },
  {
   "cell_type": "code",
   "execution_count": 25,
   "metadata": {},
   "outputs": [
    {
     "data": {
      "text/html": [
       "<div>\n",
       "<style scoped>\n",
       "    .dataframe tbody tr th:only-of-type {\n",
       "        vertical-align: middle;\n",
       "    }\n",
       "\n",
       "    .dataframe tbody tr th {\n",
       "        vertical-align: top;\n",
       "    }\n",
       "\n",
       "    .dataframe thead th {\n",
       "        text-align: right;\n",
       "    }\n",
       "</style>\n",
       "<table border=\"1\" class=\"dataframe\">\n",
       "  <thead>\n",
       "    <tr style=\"text-align: right;\">\n",
       "      <th></th>\n",
       "      <th>Release date</th>\n",
       "      <th>Max resolution</th>\n",
       "      <th>Low resolution</th>\n",
       "      <th>Effective pixels</th>\n",
       "      <th>Zoom wide (W)</th>\n",
       "      <th>Zoom tele (T)</th>\n",
       "      <th>Normal focus range</th>\n",
       "      <th>Macro focus range</th>\n",
       "      <th>Storage included</th>\n",
       "      <th>Weight (inc. batteries)</th>\n",
       "      <th>Dimensions</th>\n",
       "      <th>Price</th>\n",
       "    </tr>\n",
       "  </thead>\n",
       "  <tbody>\n",
       "    <tr>\n",
       "      <th>0</th>\n",
       "      <td>1997</td>\n",
       "      <td>1024.0</td>\n",
       "      <td>640.0</td>\n",
       "      <td>0.0</td>\n",
       "      <td>38.0</td>\n",
       "      <td>114.0</td>\n",
       "      <td>70.0</td>\n",
       "      <td>40.0</td>\n",
       "      <td>4.0</td>\n",
       "      <td>420.0</td>\n",
       "      <td>95.0</td>\n",
       "      <td>179.0</td>\n",
       "    </tr>\n",
       "    <tr>\n",
       "      <th>1</th>\n",
       "      <td>1998</td>\n",
       "      <td>1280.0</td>\n",
       "      <td>640.0</td>\n",
       "      <td>1.0</td>\n",
       "      <td>38.0</td>\n",
       "      <td>114.0</td>\n",
       "      <td>50.0</td>\n",
       "      <td>0.0</td>\n",
       "      <td>4.0</td>\n",
       "      <td>420.0</td>\n",
       "      <td>158.0</td>\n",
       "      <td>179.0</td>\n",
       "    </tr>\n",
       "    <tr>\n",
       "      <th>4</th>\n",
       "      <td>1999</td>\n",
       "      <td>1152.0</td>\n",
       "      <td>640.0</td>\n",
       "      <td>0.0</td>\n",
       "      <td>43.0</td>\n",
       "      <td>43.0</td>\n",
       "      <td>50.0</td>\n",
       "      <td>0.0</td>\n",
       "      <td>40.0</td>\n",
       "      <td>300.0</td>\n",
       "      <td>128.0</td>\n",
       "      <td>1299.0</td>\n",
       "    </tr>\n",
       "    <tr>\n",
       "      <th>5</th>\n",
       "      <td>2001</td>\n",
       "      <td>1600.0</td>\n",
       "      <td>640.0</td>\n",
       "      <td>1.0</td>\n",
       "      <td>51.0</td>\n",
       "      <td>51.0</td>\n",
       "      <td>50.0</td>\n",
       "      <td>20.0</td>\n",
       "      <td>8.0</td>\n",
       "      <td>270.0</td>\n",
       "      <td>119.0</td>\n",
       "      <td>179.0</td>\n",
       "    </tr>\n",
       "    <tr>\n",
       "      <th>8</th>\n",
       "      <td>1996</td>\n",
       "      <td>832.0</td>\n",
       "      <td>640.0</td>\n",
       "      <td>0.0</td>\n",
       "      <td>50.0</td>\n",
       "      <td>50.0</td>\n",
       "      <td>40.0</td>\n",
       "      <td>10.0</td>\n",
       "      <td>1.0</td>\n",
       "      <td>460.0</td>\n",
       "      <td>160.0</td>\n",
       "      <td>139.0</td>\n",
       "    </tr>\n",
       "    <tr>\n",
       "      <th>...</th>\n",
       "      <td>...</td>\n",
       "      <td>...</td>\n",
       "      <td>...</td>\n",
       "      <td>...</td>\n",
       "      <td>...</td>\n",
       "      <td>...</td>\n",
       "      <td>...</td>\n",
       "      <td>...</td>\n",
       "      <td>...</td>\n",
       "      <td>...</td>\n",
       "      <td>...</td>\n",
       "      <td>...</td>\n",
       "    </tr>\n",
       "    <tr>\n",
       "      <th>1033</th>\n",
       "      <td>2001</td>\n",
       "      <td>2048.0</td>\n",
       "      <td>1024.0</td>\n",
       "      <td>3.0</td>\n",
       "      <td>38.0</td>\n",
       "      <td>114.0</td>\n",
       "      <td>10.0</td>\n",
       "      <td>10.0</td>\n",
       "      <td>8.0</td>\n",
       "      <td>320.0</td>\n",
       "      <td>120.0</td>\n",
       "      <td>62.0</td>\n",
       "    </tr>\n",
       "    <tr>\n",
       "      <th>1034</th>\n",
       "      <td>2000</td>\n",
       "      <td>2048.0</td>\n",
       "      <td>1024.0</td>\n",
       "      <td>3.0</td>\n",
       "      <td>35.0</td>\n",
       "      <td>105.0</td>\n",
       "      <td>80.0</td>\n",
       "      <td>9.0</td>\n",
       "      <td>16.0</td>\n",
       "      <td>390.0</td>\n",
       "      <td>116.0</td>\n",
       "      <td>62.0</td>\n",
       "    </tr>\n",
       "    <tr>\n",
       "      <th>1035</th>\n",
       "      <td>2001</td>\n",
       "      <td>2048.0</td>\n",
       "      <td>1024.0</td>\n",
       "      <td>3.0</td>\n",
       "      <td>35.0</td>\n",
       "      <td>98.0</td>\n",
       "      <td>80.0</td>\n",
       "      <td>10.0</td>\n",
       "      <td>8.0</td>\n",
       "      <td>340.0</td>\n",
       "      <td>107.0</td>\n",
       "      <td>62.0</td>\n",
       "    </tr>\n",
       "    <tr>\n",
       "      <th>1036</th>\n",
       "      <td>2001</td>\n",
       "      <td>2400.0</td>\n",
       "      <td>1200.0</td>\n",
       "      <td>3.0</td>\n",
       "      <td>35.0</td>\n",
       "      <td>98.0</td>\n",
       "      <td>80.0</td>\n",
       "      <td>10.0</td>\n",
       "      <td>16.0</td>\n",
       "      <td>340.0</td>\n",
       "      <td>107.0</td>\n",
       "      <td>62.0</td>\n",
       "    </tr>\n",
       "    <tr>\n",
       "      <th>1037</th>\n",
       "      <td>2002</td>\n",
       "      <td>1600.0</td>\n",
       "      <td>800.0</td>\n",
       "      <td>1.0</td>\n",
       "      <td>38.0</td>\n",
       "      <td>38.0</td>\n",
       "      <td>40.0</td>\n",
       "      <td>20.0</td>\n",
       "      <td>8.0</td>\n",
       "      <td>180.0</td>\n",
       "      <td>86.0</td>\n",
       "      <td>129.0</td>\n",
       "    </tr>\n",
       "  </tbody>\n",
       "</table>\n",
       "<p>961 rows × 12 columns</p>\n",
       "</div>"
      ],
      "text/plain": [
       "      Release date  Max resolution  Low resolution  Effective pixels  \\\n",
       "0             1997          1024.0           640.0               0.0   \n",
       "1             1998          1280.0           640.0               1.0   \n",
       "4             1999          1152.0           640.0               0.0   \n",
       "5             2001          1600.0           640.0               1.0   \n",
       "8             1996           832.0           640.0               0.0   \n",
       "...            ...             ...             ...               ...   \n",
       "1033          2001          2048.0          1024.0               3.0   \n",
       "1034          2000          2048.0          1024.0               3.0   \n",
       "1035          2001          2048.0          1024.0               3.0   \n",
       "1036          2001          2400.0          1200.0               3.0   \n",
       "1037          2002          1600.0           800.0               1.0   \n",
       "\n",
       "      Zoom wide (W)  Zoom tele (T)  Normal focus range  Macro focus range  \\\n",
       "0              38.0          114.0                70.0               40.0   \n",
       "1              38.0          114.0                50.0                0.0   \n",
       "4              43.0           43.0                50.0                0.0   \n",
       "5              51.0           51.0                50.0               20.0   \n",
       "8              50.0           50.0                40.0               10.0   \n",
       "...             ...            ...                 ...                ...   \n",
       "1033           38.0          114.0                10.0               10.0   \n",
       "1034           35.0          105.0                80.0                9.0   \n",
       "1035           35.0           98.0                80.0               10.0   \n",
       "1036           35.0           98.0                80.0               10.0   \n",
       "1037           38.0           38.0                40.0               20.0   \n",
       "\n",
       "      Storage included  Weight (inc. batteries)  Dimensions   Price  \n",
       "0                  4.0                    420.0        95.0   179.0  \n",
       "1                  4.0                    420.0       158.0   179.0  \n",
       "4                 40.0                    300.0       128.0  1299.0  \n",
       "5                  8.0                    270.0       119.0   179.0  \n",
       "8                  1.0                    460.0       160.0   139.0  \n",
       "...                ...                      ...         ...     ...  \n",
       "1033               8.0                    320.0       120.0    62.0  \n",
       "1034              16.0                    390.0       116.0    62.0  \n",
       "1035               8.0                    340.0       107.0    62.0  \n",
       "1036              16.0                    340.0       107.0    62.0  \n",
       "1037               8.0                    180.0        86.0   129.0  \n",
       "\n",
       "[961 rows x 12 columns]"
      ]
     },
     "execution_count": 25,
     "metadata": {},
     "output_type": "execute_result"
    }
   ],
   "source": [
    "df"
   ]
  },
  {
   "cell_type": "code",
   "execution_count": 111,
   "metadata": {},
   "outputs": [],
   "source": [
    "train = df.sample(frac=0.8)\n",
    "test  = df.drop(train.index)\n",
    "X_train = train.drop('Price', axis=1)\n",
    "X_test  =  test.drop('Price', axis=1)\n",
    "Y_train = train.Price\n",
    "Y_test  =  test.Price "
   ]
  },
  {
   "cell_type": "code",
   "execution_count": 112,
   "metadata": {},
   "outputs": [
    {
     "name": "stdout",
     "output_type": "stream",
     "text": [
      "Index(['Release date', 'Max resolution', 'Low resolution', 'Effective pixels',\n",
      "       'Zoom wide (W)', 'Zoom tele (T)', 'Normal focus range',\n",
      "       'Macro focus range', 'Storage included', 'Weight (inc. batteries)',\n",
      "       'Dimensions', 'Price'],\n",
      "      dtype='object')\n"
     ]
    }
   ],
   "source": [
    "print(df.columns)"
   ]
  },
  {
   "cell_type": "code",
   "execution_count": 113,
   "metadata": {},
   "outputs": [
    {
     "data": {
      "text/html": [
       "<div>\n",
       "<style scoped>\n",
       "    .dataframe tbody tr th:only-of-type {\n",
       "        vertical-align: middle;\n",
       "    }\n",
       "\n",
       "    .dataframe tbody tr th {\n",
       "        vertical-align: top;\n",
       "    }\n",
       "\n",
       "    .dataframe thead th {\n",
       "        text-align: right;\n",
       "    }\n",
       "</style>\n",
       "<table border=\"1\" class=\"dataframe\">\n",
       "  <thead>\n",
       "    <tr style=\"text-align: right;\">\n",
       "      <th></th>\n",
       "      <th>Release date</th>\n",
       "      <th>Max resolution</th>\n",
       "      <th>Low resolution</th>\n",
       "      <th>Effective pixels</th>\n",
       "      <th>Zoom wide (W)</th>\n",
       "      <th>Zoom tele (T)</th>\n",
       "      <th>Normal focus range</th>\n",
       "      <th>Macro focus range</th>\n",
       "      <th>Storage included</th>\n",
       "      <th>Weight (inc. batteries)</th>\n",
       "      <th>Dimensions</th>\n",
       "    </tr>\n",
       "  </thead>\n",
       "  <tbody>\n",
       "    <tr>\n",
       "      <th>0</th>\n",
       "      <td>1997</td>\n",
       "      <td>1024.0</td>\n",
       "      <td>640.0</td>\n",
       "      <td>0.0</td>\n",
       "      <td>38.0</td>\n",
       "      <td>114.0</td>\n",
       "      <td>70.0</td>\n",
       "      <td>40.0</td>\n",
       "      <td>4.0</td>\n",
       "      <td>420.0</td>\n",
       "      <td>95.0</td>\n",
       "    </tr>\n",
       "    <tr>\n",
       "      <th>19</th>\n",
       "      <td>2006</td>\n",
       "      <td>2272.0</td>\n",
       "      <td>1600.0</td>\n",
       "      <td>4.0</td>\n",
       "      <td>39.0</td>\n",
       "      <td>125.0</td>\n",
       "      <td>47.0</td>\n",
       "      <td>1.0</td>\n",
       "      <td>16.0</td>\n",
       "      <td>200.0</td>\n",
       "      <td>103.0</td>\n",
       "    </tr>\n",
       "    <tr>\n",
       "      <th>21</th>\n",
       "      <td>2007</td>\n",
       "      <td>2592.0</td>\n",
       "      <td>2048.0</td>\n",
       "      <td>5.0</td>\n",
       "      <td>38.0</td>\n",
       "      <td>122.0</td>\n",
       "      <td>47.0</td>\n",
       "      <td>1.0</td>\n",
       "      <td>16.0</td>\n",
       "      <td>215.0</td>\n",
       "      <td>106.0</td>\n",
       "    </tr>\n",
       "    <tr>\n",
       "      <th>23</th>\n",
       "      <td>1998</td>\n",
       "      <td>1024.0</td>\n",
       "      <td>512.0</td>\n",
       "      <td>0.0</td>\n",
       "      <td>35.0</td>\n",
       "      <td>35.0</td>\n",
       "      <td>50.0</td>\n",
       "      <td>9.0</td>\n",
       "      <td>8.0</td>\n",
       "      <td>240.0</td>\n",
       "      <td>105.0</td>\n",
       "    </tr>\n",
       "    <tr>\n",
       "      <th>32</th>\n",
       "      <td>1999</td>\n",
       "      <td>1024.0</td>\n",
       "      <td>512.0</td>\n",
       "      <td>0.0</td>\n",
       "      <td>28.0</td>\n",
       "      <td>70.0</td>\n",
       "      <td>50.0</td>\n",
       "      <td>17.0</td>\n",
       "      <td>8.0</td>\n",
       "      <td>290.0</td>\n",
       "      <td>103.0</td>\n",
       "    </tr>\n",
       "    <tr>\n",
       "      <th>...</th>\n",
       "      <td>...</td>\n",
       "      <td>...</td>\n",
       "      <td>...</td>\n",
       "      <td>...</td>\n",
       "      <td>...</td>\n",
       "      <td>...</td>\n",
       "      <td>...</td>\n",
       "      <td>...</td>\n",
       "      <td>...</td>\n",
       "      <td>...</td>\n",
       "      <td>...</td>\n",
       "    </tr>\n",
       "    <tr>\n",
       "      <th>997</th>\n",
       "      <td>2005</td>\n",
       "      <td>2592.0</td>\n",
       "      <td>2048.0</td>\n",
       "      <td>5.0</td>\n",
       "      <td>38.0</td>\n",
       "      <td>114.0</td>\n",
       "      <td>50.0</td>\n",
       "      <td>6.0</td>\n",
       "      <td>32.0</td>\n",
       "      <td>250.0</td>\n",
       "      <td>91.0</td>\n",
       "    </tr>\n",
       "    <tr>\n",
       "      <th>1001</th>\n",
       "      <td>2006</td>\n",
       "      <td>3072.0</td>\n",
       "      <td>2592.0</td>\n",
       "      <td>7.0</td>\n",
       "      <td>38.0</td>\n",
       "      <td>114.0</td>\n",
       "      <td>50.0</td>\n",
       "      <td>2.0</td>\n",
       "      <td>58.0</td>\n",
       "      <td>157.0</td>\n",
       "      <td>89.0</td>\n",
       "    </tr>\n",
       "    <tr>\n",
       "      <th>1009</th>\n",
       "      <td>1999</td>\n",
       "      <td>640.0</td>\n",
       "      <td>320.0</td>\n",
       "      <td>0.0</td>\n",
       "      <td>40.0</td>\n",
       "      <td>400.0</td>\n",
       "      <td>1.0</td>\n",
       "      <td>1.0</td>\n",
       "      <td>1.0</td>\n",
       "      <td>500.0</td>\n",
       "      <td>138.0</td>\n",
       "    </tr>\n",
       "    <tr>\n",
       "      <th>1017</th>\n",
       "      <td>2001</td>\n",
       "      <td>1472.0</td>\n",
       "      <td>1280.0</td>\n",
       "      <td>1.0</td>\n",
       "      <td>41.0</td>\n",
       "      <td>328.0</td>\n",
       "      <td>25.0</td>\n",
       "      <td>3.0</td>\n",
       "      <td>1.0</td>\n",
       "      <td>660.0</td>\n",
       "      <td>126.0</td>\n",
       "    </tr>\n",
       "    <tr>\n",
       "      <th>1032</th>\n",
       "      <td>2001</td>\n",
       "      <td>1792.0</td>\n",
       "      <td>896.0</td>\n",
       "      <td>2.0</td>\n",
       "      <td>38.0</td>\n",
       "      <td>114.0</td>\n",
       "      <td>50.0</td>\n",
       "      <td>5.0</td>\n",
       "      <td>8.0</td>\n",
       "      <td>310.0</td>\n",
       "      <td>123.0</td>\n",
       "    </tr>\n",
       "  </tbody>\n",
       "</table>\n",
       "<p>192 rows × 11 columns</p>\n",
       "</div>"
      ],
      "text/plain": [
       "      Release date  Max resolution  Low resolution  Effective pixels  \\\n",
       "0             1997          1024.0           640.0               0.0   \n",
       "19            2006          2272.0          1600.0               4.0   \n",
       "21            2007          2592.0          2048.0               5.0   \n",
       "23            1998          1024.0           512.0               0.0   \n",
       "32            1999          1024.0           512.0               0.0   \n",
       "...            ...             ...             ...               ...   \n",
       "997           2005          2592.0          2048.0               5.0   \n",
       "1001          2006          3072.0          2592.0               7.0   \n",
       "1009          1999           640.0           320.0               0.0   \n",
       "1017          2001          1472.0          1280.0               1.0   \n",
       "1032          2001          1792.0           896.0               2.0   \n",
       "\n",
       "      Zoom wide (W)  Zoom tele (T)  Normal focus range  Macro focus range  \\\n",
       "0              38.0          114.0                70.0               40.0   \n",
       "19             39.0          125.0                47.0                1.0   \n",
       "21             38.0          122.0                47.0                1.0   \n",
       "23             35.0           35.0                50.0                9.0   \n",
       "32             28.0           70.0                50.0               17.0   \n",
       "...             ...            ...                 ...                ...   \n",
       "997            38.0          114.0                50.0                6.0   \n",
       "1001           38.0          114.0                50.0                2.0   \n",
       "1009           40.0          400.0                 1.0                1.0   \n",
       "1017           41.0          328.0                25.0                3.0   \n",
       "1032           38.0          114.0                50.0                5.0   \n",
       "\n",
       "      Storage included  Weight (inc. batteries)  Dimensions  \n",
       "0                  4.0                    420.0        95.0  \n",
       "19                16.0                    200.0       103.0  \n",
       "21                16.0                    215.0       106.0  \n",
       "23                 8.0                    240.0       105.0  \n",
       "32                 8.0                    290.0       103.0  \n",
       "...                ...                      ...         ...  \n",
       "997               32.0                    250.0        91.0  \n",
       "1001              58.0                    157.0        89.0  \n",
       "1009               1.0                    500.0       138.0  \n",
       "1017               1.0                    660.0       126.0  \n",
       "1032               8.0                    310.0       123.0  \n",
       "\n",
       "[192 rows x 11 columns]"
      ]
     },
     "execution_count": 113,
     "metadata": {},
     "output_type": "execute_result"
    }
   ],
   "source": [
    "X_test"
   ]
  },
  {
   "cell_type": "code",
   "execution_count": 114,
   "metadata": {},
   "outputs": [
    {
     "data": {
      "text/plain": [
       "array([  14.,   19.,   62.,   99.,  119.,  126.,  129.,  139.,  146.,\n",
       "        149.,  159.,  169.,  177.,  179.,  199.,  229.,  249.,  269.,\n",
       "        279.,  299.,  329.,  384.,  399.,  429.,  449.,  499.,  509.,\n",
       "        549.,  599.,  799., 1199., 1299., 1399., 1499., 1599., 1699.,\n",
       "       1799., 2499., 4499., 4699., 4999., 7999.])"
      ]
     },
     "execution_count": 114,
     "metadata": {},
     "output_type": "execute_result"
    }
   ],
   "source": [
    "np.unique(train.Price)"
   ]
  },
  {
   "cell_type": "code",
   "execution_count": 117,
   "metadata": {},
   "outputs": [
    {
     "name": "stdout",
     "output_type": "stream",
     "text": [
      "0.5580646659589049\n",
      "0\n"
     ]
    }
   ],
   "source": [
    "tree = DecisionTreeRegressor(min_samples_leaf=12)\n",
    "tree.fit(X_train, Y_train)\n",
    "print(tree.score(X_test, Y_test))\n",
    "print(np.count_nonzero(tree.predict(X_test) == Y_test))"
   ]
  },
  {
   "cell_type": "code",
   "execution_count": 20,
   "metadata": {},
   "outputs": [],
   "source": [
    "Y_predict = tree.predict(X_test)\n",
    "residuals = Y_predict-Y_test\n",
    "mean_error = residuals.abs().mean()"
   ]
  },
  {
   "cell_type": "code",
   "execution_count": 21,
   "metadata": {},
   "outputs": [
    {
     "data": {
      "text/plain": [
       "0.5556618483644118"
      ]
     },
     "execution_count": 21,
     "metadata": {},
     "output_type": "execute_result"
    }
   ],
   "source": [
    "tree.score(X_train, Y_train)"
   ]
  },
  {
   "cell_type": "code",
   "execution_count": 22,
   "metadata": {},
   "outputs": [
    {
     "data": {
      "text/plain": [
       "250.85004362078496"
      ]
     },
     "execution_count": 22,
     "metadata": {},
     "output_type": "execute_result"
    }
   ],
   "source": [
    "mean_error"
   ]
  },
  {
   "cell_type": "code",
   "execution_count": 23,
   "metadata": {},
   "outputs": [
    {
     "data": {
      "text/plain": [
       "(array([832.,  66.,  47.,   1.,   0.,   9.,   3.,   0.,   0.,   3.]),\n",
       " array([  14. ,  812.5, 1611. , 2409.5, 3208. , 4006.5, 4805. , 5603.5,\n",
       "        6402. , 7200.5, 7999. ]),\n",
       " <a list of 10 Patch objects>)"
      ]
     },
     "execution_count": 23,
     "metadata": {},
     "output_type": "execute_result"
    },
    {
     "data": {
      "image/png": "[encoded data removed]",
      "text/plain": [
       "<Figure size 432x288 with 1 Axes>"
      ]
     },
     "metadata": {
      "needs_background": "light"
     },
     "output_type": "display_data"
    }
   ],
   "source": [
    "plt.hist(df.Price)"
   ]
  },
  {
   "cell_type": "code",
   "execution_count": 24,
   "metadata": {},
   "outputs": [
    {
     "data": {
      "text/plain": [
       "0.36653488779750976"
      ]
     },
     "execution_count": 24,
     "metadata": {},
     "output_type": "execute_result"
    }
   ],
   "source": [
    "model = LinearRegression()\n",
    "model.fit(X_train, Y_train)\n",
    "model.score(X_test, Y_test)"
   ]
  },
  {
   "cell_type": "code",
   "execution_count": 49,
   "metadata": {},
   "outputs": [],
   "source": [
    "train = df.sample(frac=0.8)\n",
    "test  = df.drop(train.index)\n",
    "X_train = train.drop('Release date', axis=1)\n",
    "X_test  =  test.drop('Release date', axis=1)\n",
    "Y_train = train['Release date']\n",
    "Y_test  =  test['Release date']"
   ]
  },
  {
   "cell_type": "code",
   "execution_count": 60,
   "metadata": {},
   "outputs": [
    {
     "data": {
      "text/plain": [
       "0.8551729314275133"
      ]
     },
     "execution_count": 60,
     "metadata": {},
     "output_type": "execute_result"
    }
   ],
   "source": [
    "dtr = DecisionTreeRegressor(min_samples_leaf=12)\n",
    "dtr.fit(X_train, Y_train)\n",
    "dtr.score(X_test, Y_test)"
   ]
  },
  {
   "cell_type": "code",
   "execution_count": 61,
   "metadata": {},
   "outputs": [
    {
     "name": "stdout",
     "output_type": "stream",
     "text": [
      "Tree ploted\n"
     ]
    },
    {
     "data": {
      "image/png": "[encoded data removed]",
      "text/plain": [
       "<Figure size 432x288 with 1 Axes>"
      ]
     },
     "metadata": {
      "needs_background": "light"
     },
     "output_type": "display_data"
    }
   ],
   "source": [
    "tree.plot_tree(dtr.fit(X_train, Y_train))\n",
    "print(\"Tree ploted\")"
   ]
  },
  {
   "cell_type": "code",
   "execution_count": 62,
   "metadata": {},
   "outputs": [
    {
     "data": {
      "text/plain": [
       "0.890746493856707"
      ]
     },
     "execution_count": 62,
     "metadata": {},
     "output_type": "execute_result"
    }
   ],
   "source": [
    "Y_predict = dtr.predict(X_test)\n",
    "residuals = Y_predict-Y_test\n",
    "mean_error = residuals.abs().mean()\n",
    "dtr.score(X_train, Y_train)"
   ]
  },
  {
   "cell_type": "code",
   "execution_count": 33,
   "metadata": {},
   "outputs": [
    {
     "data": {
      "text/plain": [
       "0.8155898103281451"
      ]
     },
     "execution_count": 33,
     "metadata": {},
     "output_type": "execute_result"
    }
   ],
   "source": [
    "mean_error"
   ]
  },
  {
   "cell_type": "code",
   "execution_count": 36,
   "metadata": {},
   "outputs": [
    {
     "data": {
      "text/plain": [
       "array([1996, 1997, 1998, 1999, 2000, 2001, 2002, 2003, 2004, 2005, 2006,\n",
       "       2007], dtype=int64)"
      ]
     },
     "execution_count": 36,
     "metadata": {},
     "output_type": "execute_result"
    }
   ],
   "source": [
    "release_dates = np.unique(df['Release date'])\n",
    "release_dates"
   ]
  },
  {
   "cell_type": "code",
   "execution_count": 41,
   "metadata": {},
   "outputs": [
    {
     "data": {
      "text/plain": [
       "(array([  4.,   7.,  26.,  45.,  55.,  79.,  84.,  89., 133., 139., 300.]),\n",
       " array([1996, 1997, 1998, 1999, 2000, 2001, 2002, 2003, 2004, 2005, 2006,\n",
       "        2007], dtype=int64),\n",
       " <a list of 11 Patch objects>)"
      ]
     },
     "execution_count": 41,
     "metadata": {},
     "output_type": "execute_result"
    },
    {
     "data": {
      "image/png": "[encoded data removed]",
      "text/plain": [
       "<Figure size 432x288 with 1 Axes>"
      ]
     },
     "metadata": {
      "needs_background": "light"
     },
     "output_type": "display_data"
    }
   ],
   "source": [
    "plt.hist(df['Release date'], bins=release_dates)"
   ]
  },
  {
   "cell_type": "markdown",
   "metadata": {},
   "source": [
    "# Decision Tree Classifier"
   ]
  },
  {
   "cell_type": "code",
   "execution_count": 100,
   "metadata": {},
   "outputs": [
    {
     "data": {
      "text/plain": [
       "0.453125"
      ]
     },
     "execution_count": 100,
     "metadata": {},
     "output_type": "execute_result"
    }
   ],
   "source": [
    "dtc = DecisionTreeClassifier()\n",
    "dtc.fit(X_train, Y_train)\n",
    "# dtc.predict(X_test)\n",
    "dtc.score(X_test, Y_test)"
   ]
  },
  {
   "cell_type": "code",
   "execution_count": 59,
   "metadata": {},
   "outputs": [
    {
     "name": "stdout",
     "output_type": "stream",
     "text": [
      "Tree ploted\n"
     ]
    },
    {
     "data": {
      "image/png": "[encoded data removed]",
      "text/plain": [
       "<Figure size 432x288 with 1 Axes>"
      ]
     },
     "metadata": {
      "needs_background": "light"
     },
     "output_type": "display_data"
    }
   ],
   "source": [
    "tree.plot_tree(dtc.fit(X_train, Y_train))\n",
    "print(\"Tree ploted\")"
   ]
  },
  {
   "cell_type": "code",
   "execution_count": 105,
   "metadata": {},
   "outputs": [
    {
     "data": {
      "text/plain": [
       "0.421875"
      ]
     },
     "execution_count": 105,
     "metadata": {},
     "output_type": "execute_result"
    }
   ],
   "source": [
    "dtc_prior = DecisionTreeClassifier(class_weight={1996: 1, 1997: 2, 1998: 2, 1999: 4, 2000: 4, 2001: 8, 2002: 8, 2003: 8, 2004: 9, 2005: 14, 2006: 14, 2007: 30})\n",
    "dtc_prior.fit(X_train, Y_train)\n",
    "dtc_prior.score(X_test, Y_test)\n",
    "# dic = {}\n",
    "# for i in release_dates:\n",
    "#     dic[i] = 1\n",
    "# print(dic)"
   ]
  },
  {
   "cell_type": "code",
   "execution_count": 106,
   "metadata": {},
   "outputs": [
    {
     "name": "stdout",
     "output_type": "stream",
     "text": [
      "Tree ploted\n"
     ]
    },
    {
     "data": {
      "image/png": "[encoded data removed]",
      "text/plain": [
       "<Figure size 432x288 with 1 Axes>"
      ]
     },
     "metadata": {
      "needs_background": "light"
     },
     "output_type": "display_data"
    }
   ],
   "source": [
    "tree.plot_tree(dtc_prior.fit(X_train, Y_train))\n",
    "print(\"Tree ploted\")"
   ]
  },
  {
   "cell_type": "code",
   "execution_count": 108,
   "metadata": {},
   "outputs": [
    {
     "name": "stdout",
     "output_type": "stream",
     "text": [
      "Scored 0.2864583333333333 for max_depth parameter: 2\n",
      "Scored 0.23958333333333334 for max_depth parameter: 3\n",
      "Scored 0.3020833333333333 for max_depth parameter: 4\n",
      "Scored 0.3541666666666667 for max_depth parameter: 5\n",
      "Scored 0.421875 for max_depth parameter: 8\n",
      "Scored 0.453125 for max_depth parameter: 10\n",
      "Scored 0.4427083333333333 for max_depth parameter: 15\n",
      "Scored 0.421875 for max_depth parameter: 20\n",
      "Scored 0.4583333333333333 for max_depth parameter: 25\n"
     ]
    }
   ],
   "source": [
    "depths = [2,3,4,5,8,10,15,20,25]\n",
    "for d in depths:\n",
    "    dtc_depth = DecisionTreeClassifier(max_depth = d)\n",
    "    dtc_depth.fit(X_train, Y_train)\n",
    "    s = dtc_depth.score(X_test, Y_test)\n",
    "    print(f'Scored {s} for max_depth parameter: {d}')"
   ]
  }
 ],
 "metadata": {
  "kernelspec": {
   "display_name": "Python 3",
   "language": "python",
   "name": "python3"
  },
  "language_info": {
   "codemirror_mode": {
    "name": "ipython",
    "version": 3
   },
   "file_extension": ".py",
   "mimetype": "text/x-python",
   "name": "python",
   "nbconvert_exporter": "python",
   "pygments_lexer": "ipython3",
   "version": "3.8.1"
  }
 },
 "nbformat": 4,
 "nbformat_minor": 4
}
