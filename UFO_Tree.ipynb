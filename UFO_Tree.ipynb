{
 "cells": [
  {
   "cell_type": "code",
   "execution_count": null,
   "metadata": {},
   "outputs": [],
   "source": [
    "import pandas as pd\n",
    "import numpy as np\n",
    "from sklearn.tree import DecisionTreeClassifier\n",
    "from sklearn.tree import DecisionTreeRegressor\n",
    "from sklearn.linear_model import LinearRegression\n",
    "from Tree import Tree\n",
    "import matplotlib.pyplot as plt\n",
    "from tqdm import tqdm"
   ]
  },
  {
   "cell_type": "code",
   "execution_count": 43,
   "metadata": {},
   "outputs": [
    {
     "data": {
      "text/html": [
       "<div>\n",
       "<style scoped>\n",
       "    .dataframe tbody tr th:only-of-type {\n",
       "        vertical-align: middle;\n",
       "    }\n",
       "\n",
       "    .dataframe tbody tr th {\n",
       "        vertical-align: top;\n",
       "    }\n",
       "\n",
       "    .dataframe thead th {\n",
       "        text-align: right;\n",
       "    }\n",
       "</style>\n",
       "<table border=\"1\" class=\"dataframe\">\n",
       "  <thead>\n",
       "    <tr style=\"text-align: right;\">\n",
       "      <th></th>\n",
       "      <th>shape</th>\n",
       "      <th>duration</th>\n",
       "      <th>latitude</th>\n",
       "      <th>longitude</th>\n",
       "    </tr>\n",
       "  </thead>\n",
       "  <tbody>\n",
       "    <tr>\n",
       "      <th>2</th>\n",
       "      <td>circle</td>\n",
       "      <td>20.0</td>\n",
       "      <td>53.200000</td>\n",
       "      <td>-2.916667</td>\n",
       "    </tr>\n",
       "    <tr>\n",
       "      <th>3</th>\n",
       "      <td>circle</td>\n",
       "      <td>20.0</td>\n",
       "      <td>28.978333</td>\n",
       "      <td>-96.645833</td>\n",
       "    </tr>\n",
       "    <tr>\n",
       "      <th>4</th>\n",
       "      <td>light</td>\n",
       "      <td>900.0</td>\n",
       "      <td>21.418056</td>\n",
       "      <td>-157.803611</td>\n",
       "    </tr>\n",
       "    <tr>\n",
       "      <th>5</th>\n",
       "      <td>sphere</td>\n",
       "      <td>300.0</td>\n",
       "      <td>36.595000</td>\n",
       "      <td>-82.188889</td>\n",
       "    </tr>\n",
       "    <tr>\n",
       "      <th>6</th>\n",
       "      <td>circle</td>\n",
       "      <td>180.0</td>\n",
       "      <td>51.434722</td>\n",
       "      <td>-3.180000</td>\n",
       "    </tr>\n",
       "  </tbody>\n",
       "</table>\n",
       "</div>"
      ],
      "text/plain": [
       "    shape  duration   latitude   longitude\n",
       "2  circle      20.0  53.200000   -2.916667\n",
       "3  circle      20.0  28.978333  -96.645833\n",
       "4   light     900.0  21.418056 -157.803611\n",
       "5  sphere     300.0  36.595000  -82.188889\n",
       "6  circle     180.0  51.434722   -3.180000"
      ]
     },
     "execution_count": 43,
     "metadata": {},
     "output_type": "execute_result"
    }
   ],
   "source": [
    "df = pd.read_csv('ufo.csv')\n",
    "df.drop('datetime', axis=1, inplace=True)\n",
    "df.drop('city', axis=1, inplace=True)\n",
    "df.drop('state', axis=1, inplace=True)\n",
    "df.drop('country', axis=1, inplace=True)\n",
    "df.drop('duration (hours/min)', axis=1, inplace=True)\n",
    "df.drop('comments', axis=1, inplace=True)\n",
    "df.drop('date posted', axis=1, inplace=True)\n",
    "df.rename({'duration (seconds)': 'duration'}, axis=1, inplace=True)\n",
    "df.rename({'longitude ': 'longitude'}, axis=1, inplace=True)\n",
    "def floatify(t):\n",
    "    try:\n",
    "        return float(t)\n",
    "    except:\n",
    "        return 0\n",
    "df['duration'] = df['duration'].apply(floatify)\n",
    "df['latitude'] = df['latitude'].apply(floatify)\n",
    "df['longitude'] = df['longitude'].apply(floatify)\n",
    "df.drop(df[df['duration'] > 1800].index, inplace=True)\n",
    "df.drop(df[df['duration'] == 0].index, inplace=True)\n",
    "df.drop(df[df['longitude'] == 0].index, inplace=True)\n",
    "df.drop(df[df['latitude'] == 0].index, inplace=True)\n",
    "df.dropna(inplace=True)\n",
    "df.head()"
   ]
  },
  {
   "cell_type": "code",
   "execution_count": 46,
   "metadata": {},
   "outputs": [],
   "source": [
    "train = df.sample(frac=0.8)\n",
    "test  = df.drop(train.index)\n",
    "\n",
    "train_shape = train.rename(columns={'shape':'target'})\n",
    "test_shape  =  test.rename(columns={'shape':'target'})\n",
    "\n",
    "X_train_duration = train.drop('duration', axis=1)\n",
    "X_test_duration  =  test.drop('duration', axis=1)\n",
    "Y_train_duration = train.duration\n",
    "Y_test_duration  =  test.duration"
   ]
  },
  {
   "cell_type": "code",
   "execution_count": 33,
   "metadata": {},
   "outputs": [
    {
     "name": "stdout",
     "output_type": "stream",
     "text": [
      "shape: 0.14458844133099824 on 28 targets\n",
      "    light: 0.4246668944311582\n",
      "    triangle: 0.12318339100346021\n",
      "    circle: 0.07952146375791697\n",
      "    fireball: 0.1297071129707113\n",
      "    other: 0.054380664652567974\n",
      "    unknown: 0.06631578947368422\n",
      "    sphere: 0.06762295081967214\n",
      "    disk: 0.06857727737973388\n",
      "    oval: 0.058646616541353384\n",
      "    formation: 0.036036036036036036\n",
      "    cigar: 0.04477611940298507\n",
      "    changing: 0.046511627906976744\n",
      "    rectangle: 0.01606425702811245\n",
      "    flash: 0.01984126984126984\n",
      "    cylinder: 0.0311284046692607\n",
      "    diamond: 0.03827751196172249\n",
      "    chevron: 0.03468208092485549\n",
      "    teardrop: 0.00684931506849315\n",
      "    egg: 0.027586206896551724\n",
      "    cone: 0\n",
      "    cross: 0\n"
     ]
    }
   ],
   "source": [
    "tree = Tree(train_shape)\n",
    "predictions = test_shape.apply(tree.classify, axis=1)\n",
    "correct = predictions == test_shape.target\n",
    "accuracy = correct.value_counts()[True]/len(correct)\n",
    "targets = df['shape'].value_counts().keys()\n",
    "records = {}\n",
    "print(f\"shape: {accuracy} on {len(targets)} targets\")\n",
    "for target in targets:\n",
    "    test_target = test_shape[test_shape.target==target]\n",
    "    if len(test_target) < 5:\n",
    "        break\n",
    "    predictions_target = predictions[test_target.index]\n",
    "    correct = predictions_target == test_target.target\n",
    "    vc = correct.value_counts()\n",
    "    if True in vc:\n",
    "        accuracy = vc[True]/len(correct)\n",
    "    else:\n",
    "        accuracy = 0\n",
    "    records[target] = accuracy\n",
    "    print(f\"    {target}: {accuracy}\")\n"
   ]
  },
  {
   "cell_type": "code",
   "execution_count": 35,
   "metadata": {},
   "outputs": [],
   "source": [
    "import json\n",
    "with open('ufo_results.json', 'w') as f:\n",
    "    json.dump(records, f)"
   ]
  },
  {
   "cell_type": "code",
   "execution_count": 50,
   "metadata": {},
   "outputs": [
    {
     "name": "stdout",
     "output_type": "stream",
     "text": [
      "-0.2977755000745772\n"
     ]
    }
   ],
   "source": [
    "tree = DecisionTreeRegressor()\n",
    "# X_train_duration.drop('shape', axis=1, inplace=True)\n",
    "# X_test_duration.drop('shape', axis=1, inplace=True)\n",
    "tree.fit(X_train_duration, Y_train_duration)\n",
    "print(tree.score(X_test_duration, Y_test_duration))"
   ]
  },
  {
   "cell_type": "code",
   "execution_count": 51,
   "metadata": {},
   "outputs": [],
   "source": [
    "Y_predict = tree.predict(X_test_duration)\n",
    "residuals = Y_predict-Y_test_duration\n",
    "mean_error = residuals.abs().mean()"
   ]
  },
  {
   "cell_type": "code",
   "execution_count": 52,
   "metadata": {},
   "outputs": [
    {
     "data": {
      "text/plain": [
       "356.3819950455579"
      ]
     },
     "execution_count": 52,
     "metadata": {},
     "output_type": "execute_result"
    }
   ],
   "source": [
    "mean_error"
   ]
  },
  {
   "cell_type": "code",
   "execution_count": null,
   "metadata": {},
   "outputs": [],
   "source": []
  }
 ],
 "metadata": {
  "kernelspec": {
   "display_name": "Python 3",
   "language": "python",
   "name": "python3"
  },
  "language_info": {
   "codemirror_mode": {
    "name": "ipython",
    "version": 3
   },
   "file_extension": ".py",
   "mimetype": "text/x-python",
   "name": "python",
   "nbconvert_exporter": "python",
   "pygments_lexer": "ipython3",
   "version": "3.7.3"
  }
 },
 "nbformat": 4,
 "nbformat_minor": 2
}
